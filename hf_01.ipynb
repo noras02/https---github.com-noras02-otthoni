{
    "metadata": {
        "kernelspec": {
            "name": "SQL",
            "display_name": "SQL",
            "language": "sql"
        },
        "language_info": {
            "name": "sql",
            "version": ""
        }
    },
    "nbformat_minor": 2,
    "nbformat": 4,
    "cells": [
        {
            "cell_type": "markdown",
            "source": [
                "rendeles tábla"
            ],
            "metadata": {
                "azdata_cell_guid": "2a80cf55-effe-4acb-a3d9-c18bb890aa04"
            },
            "attachments": {}
        },
        {
            "cell_type": "markdown",
            "source": [
                "TOP 10 leghosszabb szállítási idő napokban megadva"
            ],
            "metadata": {
                "azdata_cell_guid": "38fa745f-f899-42cd-bfd4-94c89c95387d"
            },
            "attachments": {}
        },
        {
            "cell_type": "code",
            "source": [
                "SELECT distinct top 10 datediff(day,REND_DATUM, SZALL_DATUM) AS 'top 10 leghosszabb szállítási idő a rendeléstől számítva, napokban'\r\n",
                "FROM rendeles\r\n",
                "order by 'top 10 leghosszabb szállítási idő a rendeléstől számítva, napokban' desc"
            ],
            "metadata": {
                "azdata_cell_guid": "d291afe4-321d-4fb2-af3f-c472ac34db06",
                "language": "sql",
                "tags": []
            },
            "outputs": [
                {
                    "output_type": "display_data",
                    "data": {
                        "text/html": "(9 rows affected)"
                    },
                    "metadata": {}
                },
                {
                    "output_type": "display_data",
                    "data": {
                        "text/html": "Total execution time: 00:00:00.038"
                    },
                    "metadata": {}
                },
                {
                    "output_type": "execute_result",
                    "execution_count": 15,
                    "data": {
                        "application/vnd.dataresource+json": {
                            "schema": {
                                "fields": [
                                    {
                                        "name": "top 10 leghosszabb szállítási idő a rendeléstől számítva, napokban"
                                    }
                                ]
                            },
                            "data": [
                                {
                                    "top 10 leghosszabb szállítási idő a rendeléstől számítva, napokban": "10"
                                },
                                {
                                    "top 10 leghosszabb szállítási idő a rendeléstől számítva, napokban": "9"
                                },
                                {
                                    "top 10 leghosszabb szállítási idő a rendeléstől számítva, napokban": "8"
                                },
                                {
                                    "top 10 leghosszabb szállítási idő a rendeléstől számítva, napokban": "7"
                                },
                                {
                                    "top 10 leghosszabb szállítási idő a rendeléstől számítva, napokban": "6"
                                },
                                {
                                    "top 10 leghosszabb szállítási idő a rendeléstől számítva, napokban": "5"
                                },
                                {
                                    "top 10 leghosszabb szállítási idő a rendeléstől számítva, napokban": "4"
                                },
                                {
                                    "top 10 leghosszabb szállítási idő a rendeléstől számítva, napokban": "3"
                                },
                                {
                                    "top 10 leghosszabb szállítási idő a rendeléstől számítva, napokban": "2"
                                }
                            ]
                        },
                        "text/html": "<table><tr><th>top 10 leghosszabb szállítási idő a rendeléstől számítva, napokban</th></tr><tr><td>10</td></tr><tr><td>9</td></tr><tr><td>8</td></tr><tr><td>7</td></tr><tr><td>6</td></tr><tr><td>5</td></tr><tr><td>4</td></tr><tr><td>3</td></tr><tr><td>2</td></tr></table>"
                    },
                    "metadata": {
                        "azdata_chartOptions": {
                            "type": "bar",
                            "dataDirection": "horizontal",
                            "columnsAsLabels": true,
                            "labelFirstColumn": false,
                            "legendPosition": "top"
                        }
                    }
                }
            ],
            "execution_count": 15
        },
        {
            "cell_type": "markdown",
            "source": [
                "Melyik fizetési módot alkalmazták a legtöbbször?"
            ],
            "metadata": {
                "language": "sql",
                "azdata_cell_guid": "b3f402e2-89d1-42af-8d31-964d5f363092"
            },
            "attachments": {}
        },
        {
            "cell_type": "code",
            "source": [
                "SELECT fiz_mod, count(FIZ_MOD) as 'fizetési mód gyakorisága'\r\n",
                "from rendeles\r\n",
                "GROUP BY fiz_mod\r\n",
                "ORDER BY COUNT(*) asc"
            ],
            "metadata": {
                "language": "sql",
                "azdata_cell_guid": "4ed4a446-edf5-4edf-a0e1-a84e84f8f5c3"
            },
            "outputs": [
                {
                    "output_type": "display_data",
                    "data": {
                        "text/html": "(3 rows affected)"
                    },
                    "metadata": {}
                },
                {
                    "output_type": "display_data",
                    "data": {
                        "text/html": "Total execution time: 00:00:00.741"
                    },
                    "metadata": {}
                },
                {
                    "output_type": "execute_result",
                    "execution_count": 20,
                    "data": {
                        "application/vnd.dataresource+json": {
                            "schema": {
                                "fields": [
                                    {
                                        "name": "fiz_mod"
                                    },
                                    {
                                        "name": "fizetési mód gyakorisága"
                                    }
                                ]
                            },
                            "data": [
                                {
                                    "fiz_mod": "Készpénz",
                                    "fizetési mód gyakorisága": "2798"
                                },
                                {
                                    "fiz_mod": "Átutalás",
                                    "fizetési mód gyakorisága": "11284"
                                },
                                {
                                    "fiz_mod": "Bankkártya",
                                    "fizetési mód gyakorisága": "14003"
                                }
                            ]
                        },
                        "text/html": "<table><tr><th>fiz_mod</th><th>fizetési mód gyakorisága</th></tr><tr><td>Készpénz</td><td>2798</td></tr><tr><td>Átutalás</td><td>11284</td></tr><tr><td>Bankkártya</td><td>14003</td></tr></table>"
                    },
                    "metadata": {
                        "azdata_chartOptions": {
                            "type": "horizontalBar",
                            "dataDirection": "horizontal",
                            "columnsAsLabels": true,
                            "labelFirstColumn": true,
                            "legendPosition": "top"
                        }
                    }
                }
            ],
            "execution_count": 20
        },
        {
            "cell_type": "markdown",
            "source": [
                "Szállítási címek és null értékek aránya"
            ],
            "metadata": {
                "language": "sql",
                "azdata_cell_guid": "e4e2f050-55e4-4305-80e4-fbe742d1a3bf"
            },
            "attachments": {}
        },
        {
            "cell_type": "code",
            "source": [
                "select count(case when SZALL_CIM is null then 1 end) as 'Nincs szállítási cím',\r\n",
                "count(case when SZALL_CIM is not null then 1 end) as 'Van szállítási cím'\r\n",
                "from rendeles"
            ],
            "metadata": {
                "language": "sql",
                "azdata_cell_guid": "6b026800-2976-47b2-abd5-d89e120ee575"
            },
            "outputs": [
                {
                    "output_type": "display_data",
                    "data": {
                        "text/html": "Warning: Null value is eliminated by an aggregate or other SET operation."
                    },
                    "metadata": {}
                },
                {
                    "output_type": "display_data",
                    "data": {
                        "text/html": "(1 row affected)"
                    },
                    "metadata": {}
                },
                {
                    "output_type": "display_data",
                    "data": {
                        "text/html": "Total execution time: 00:00:00.047"
                    },
                    "metadata": {}
                },
                {
                    "output_type": "execute_result",
                    "execution_count": 6,
                    "data": {
                        "application/vnd.dataresource+json": {
                            "schema": {
                                "fields": [
                                    {
                                        "name": "Nincs szállítási cím"
                                    },
                                    {
                                        "name": "Van szállítási cím"
                                    }
                                ]
                            },
                            "data": [
                                {
                                    "Nincs szállítási cím": "21689",
                                    "Van szállítási cím": "6396"
                                }
                            ]
                        },
                        "text/html": "<table><tr><th>Nincs szállítási cím</th><th>Van szállítási cím</th></tr><tr><td>21689</td><td>6396</td></tr></table>"
                    },
                    "metadata": {
                        "azdata_chartOptions": {
                            "type": "doughnut",
                            "dataDirection": "horizontal",
                            "columnsAsLabels": true,
                            "labelFirstColumn": false,
                            "legendPosition": "top"
                        }
                    }
                }
            ],
            "execution_count": 6
        }
    ]
}