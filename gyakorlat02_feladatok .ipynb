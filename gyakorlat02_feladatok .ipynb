{
    "metadata": {
        "kernelspec": {
            "name": "SQL",
            "display_name": "SQL",
            "language": "sql"
        },
        "language_info": {
            "name": "sql",
            "version": ""
        },
        "extensions": {
            "azuredatastudio": {
                "version": 1,
                "views": []
            }
        }
    },
    "nbformat_minor": 2,
    "nbformat": 4,
    "cells": [
        {
            "cell_type": "markdown",
            "source": [
                "1. <span style=\"color:rgb(36, 41, 47);font-family:-apple-system, BlinkMacSystemFont, &quot;Segoe UI&quot;, Helvetica, Arial, sans-serif, &quot;Apple Color Emoji&quot;, &quot;Segoe UI Emoji&quot;;font-size:16px;\">Készítsünk lekérdezést, amely listázza, hogy mely napokon hány db kölcsönzés történt!</span>\n",
                "\n",
                "<span style=\"font-size: 16px;\">a.&nbsp;</span> Az oszlopok neve legyen 'Dátum' és 'Kölcsönzések száma'  \n",
                "b. A listát rendezzük a kölcsönzés dátuma szerint csökkenő sorrendbe!"
            ],
            "metadata": {
                "azdata_cell_guid": "77f2d5b3-38e9-41cc-893f-f5afd02b97ef"
            },
            "attachments": {}
        },
        {
            "cell_type": "code",
            "source": [
                "select ki_datum as \"Dátum\", count(ki_datum) as \"Kölcsönzések száma\"\r\n",
                "from kolcsonzesek\r\n",
                "group by ki_datum\r\n",
                "order by ki_datum desc"
            ],
            "metadata": {
                "azdata_cell_guid": "bd3cef1a-4e6e-4ece-9dc3-aaa9d2b5d66d",
                "language": "sql",
                "tags": []
            },
            "outputs": [
                {
                    "output_type": "display_data",
                    "data": {
                        "text/html": "(3 rows affected)"
                    },
                    "metadata": {}
                },
                {
                    "output_type": "display_data",
                    "data": {
                        "text/html": "Total execution time: 00:00:00.166"
                    },
                    "metadata": {}
                },
                {
                    "output_type": "execute_result",
                    "metadata": {},
                    "execution_count": 4,
                    "data": {
                        "application/vnd.dataresource+json": {
                            "schema": {
                                "fields": [
                                    {
                                        "name": "Dátum"
                                    },
                                    {
                                        "name": "Kölcsönzések száma"
                                    }
                                ]
                            },
                            "data": [
                                {
                                    "Dátum": "2006-10-02",
                                    "Kölcsönzések száma": "1"
                                },
                                {
                                    "Dátum": "2006-10-01",
                                    "Kölcsönzések száma": "1"
                                },
                                {
                                    "Dátum": "2003-12-11",
                                    "Kölcsönzések száma": "3"
                                }
                            ]
                        },
                        "text/html": [
                            "<table>",
                            "<tr><th>Dátum</th><th>Kölcsönzések száma</th></tr>",
                            "<tr><td>2006-10-02</td><td>1</td></tr>",
                            "<tr><td>2006-10-01</td><td>1</td></tr>",
                            "<tr><td>2003-12-11</td><td>3</td></tr>",
                            "</table>"
                        ]
                    }
                }
            ],
            "execution_count": 4
        },
        {
            "cell_type": "markdown",
            "source": [
                "2. <span style=\"font-weight: 600; color: rgb(36, 41, 47); font-family: -apple-system, BlinkMacSystemFont, &quot;Segoe UI&quot;, Helvetica, Arial, sans-serif, &quot;Apple Color Emoji&quot;, &quot;Segoe UI Emoji&quot;; font-size: 16px;\">Mennyi a dvd-k átlagos ára stílusonkénti bontásban?</span>\n",
                "\n",
                "1. Csak azokat a stílusokat vegyük figyelembe, ahol az átlagos ár 4500 Ft feletti!\n",
                "2. Az oszlopokat nevezzük el értelemszerűen!\n",
                "3. A listát rendezzük átlagos ár szerint csökkenő sorrendbe!"
            ],
            "metadata": {
                "azdata_cell_guid": "88f5b4bb-f4c1-4bad-a0c7-b2592687b422"
            },
            "attachments": {}
        },
        {
            "cell_type": "code",
            "source": [
                "select stilus as \"stílusok\", avg(nettoar) as \"Átlagár\"\r\n",
                "from dvd\r\n",
                "GROUP by stilus\r\n",
                "having avg(nettoar)> 4500\r\n",
                "order by avg(nettoar) desc\r\n",
                ""
            ],
            "metadata": {
                "azdata_cell_guid": "e9de5726-f036-4fb9-8c33-a873955ed886",
                "language": "sql"
            },
            "outputs": [
                {
                    "output_type": "display_data",
                    "data": {
                        "text/html": "(30 rows affected)"
                    },
                    "metadata": {}
                },
                {
                    "output_type": "display_data",
                    "data": {
                        "text/html": "Total execution time: 00:00:00.090"
                    },
                    "metadata": {}
                },
                {
                    "output_type": "execute_result",
                    "metadata": {},
                    "execution_count": 11,
                    "data": {
                        "application/vnd.dataresource+json": {
                            "schema": {
                                "fields": [
                                    {
                                        "name": "stílusok"
                                    },
                                    {
                                        "name": "Átlagár"
                                    }
                                ]
                            },
                            "data": [
                                {
                                    "stílusok": "ásványtan",
                                    "Átlagár": "5624"
                                },
                                {
                                    "stílusok": "játék (rodeó)",
                                    "Átlagár": "5591"
                                },
                                {
                                    "stílusok": "humor",
                                    "Átlagár": "5573"
                                },
                                {
                                    "stílusok": "környezetvédelem",
                                    "Átlagár": "5508"
                                },
                                {
                                    "stílusok": "kresz",
                                    "Átlagár": "5476"
                                },
                                {
                                    "stílusok": "játék (jégkorong)",
                                    "Átlagár": "5242"
                                },
                                {
                                    "stílusok": "színház",
                                    "Átlagár": "5158"
                                },
                                {
                                    "stílusok": "múvészet",
                                    "Átlagár": "5118"
                                },
                                {
                                    "stílusok": "kémia",
                                    "Átlagár": "5094"
                                },
                                {
                                    "stílusok": "fordító program",
                                    "Átlagár": "5036"
                                },
                                {
                                    "stílusok": "kerttervező",
                                    "Átlagár": "4951"
                                },
                                {
                                    "stílusok": "művészet",
                                    "Átlagár": "4939,25"
                                },
                                {
                                    "stílusok": "festészet",
                                    "Átlagár": "4901"
                                },
                                {
                                    "stílusok": "zene",
                                    "Átlagár": "4855,333333333333"
                                },
                                {
                                    "stílusok": "játék",
                                    "Átlagár": "4850,466666666666"
                                },
                                {
                                    "stílusok": "játék (labdarúgás)",
                                    "Átlagár": "4817,333333333333"
                                },
                                {
                                    "stílusok": "állattan",
                                    "Átlagár": "4783,666666666667"
                                },
                                {
                                    "stílusok": "nyelvtan",
                                    "Átlagár": "4770,666666666667"
                                },
                                {
                                    "stílusok": "fizika",
                                    "Átlagár": "4769"
                                },
                                {
                                    "stílusok": "nyelvtanító",
                                    "Átlagár": "4759,476190476191"
                                },
                                {
                                    "stílusok": "csillagászat",
                                    "Átlagár": "4733,571428571428"
                                },
                                {
                                    "stílusok": "ismeretterjesztő",
                                    "Átlagár": "4726,673913043478"
                                },
                                {
                                    "stílusok": "irodalom, nyelv",
                                    "Átlagár": "4704"
                                },
                                {
                                    "stílusok": "gasztronómia",
                                    "Átlagár": "4691"
                                },
                                {
                                    "stílusok": "történelem",
                                    "Átlagár": "4655,731707317073"
                                },
                                {
                                    "stílusok": "szótár",
                                    "Átlagár": "4624,428571428572"
                                },
                                {
                                    "stílusok": "sport",
                                    "Átlagár": "4607"
                                },
                                {
                                    "stílusok": "földrajz",
                                    "Átlagár": "4580,0625"
                                },
                                {
                                    "stílusok": "matematika",
                                    "Átlagár": "4520,777777777777"
                                },
                                {
                                    "stílusok": "felvételi",
                                    "Átlagár": "4501,333333333333"
                                }
                            ]
                        },
                        "text/html": [
                            "<table>",
                            "<tr><th>stílusok</th><th>Átlagár</th></tr>",
                            "<tr><td>ásványtan</td><td>5624</td></tr>",
                            "<tr><td>játék (rodeó)</td><td>5591</td></tr>",
                            "<tr><td>humor</td><td>5573</td></tr>",
                            "<tr><td>környezetvédelem</td><td>5508</td></tr>",
                            "<tr><td>kresz</td><td>5476</td></tr>",
                            "<tr><td>játék (jégkorong)</td><td>5242</td></tr>",
                            "<tr><td>színház</td><td>5158</td></tr>",
                            "<tr><td>múvészet</td><td>5118</td></tr>",
                            "<tr><td>kémia</td><td>5094</td></tr>",
                            "<tr><td>fordító program</td><td>5036</td></tr>",
                            "<tr><td>kerttervező</td><td>4951</td></tr>",
                            "<tr><td>művészet</td><td>4939,25</td></tr>",
                            "<tr><td>festészet</td><td>4901</td></tr>",
                            "<tr><td>zene</td><td>4855,333333333333</td></tr>",
                            "<tr><td>játék</td><td>4850,466666666666</td></tr>",
                            "<tr><td>játék (labdarúgás)</td><td>4817,333333333333</td></tr>",
                            "<tr><td>állattan</td><td>4783,666666666667</td></tr>",
                            "<tr><td>nyelvtan</td><td>4770,666666666667</td></tr>",
                            "<tr><td>fizika</td><td>4769</td></tr>",
                            "<tr><td>nyelvtanító</td><td>4759,476190476191</td></tr>",
                            "<tr><td>csillagászat</td><td>4733,571428571428</td></tr>",
                            "<tr><td>ismeretterjesztő</td><td>4726,673913043478</td></tr>",
                            "<tr><td>irodalom, nyelv</td><td>4704</td></tr>",
                            "<tr><td>gasztronómia</td><td>4691</td></tr>",
                            "<tr><td>történelem</td><td>4655,731707317073</td></tr>",
                            "<tr><td>szótár</td><td>4624,428571428572</td></tr>",
                            "<tr><td>sport</td><td>4607</td></tr>",
                            "<tr><td>földrajz</td><td>4580,0625</td></tr>",
                            "<tr><td>matematika</td><td>4520,777777777777</td></tr>",
                            "<tr><td>felvételi</td><td>4501,333333333333</td></tr>",
                            "</table>"
                        ]
                    }
                }
            ],
            "execution_count": 11
        },
        {
            "cell_type": "markdown",
            "source": [
                "3. <span style=\"color:rgb(36, 41, 47);font-family:-apple-system, BlinkMacSystemFont, &quot;Segoe UI&quot;, Helvetica, Arial, sans-serif, &quot;Apple Color Emoji&quot;, &quot;Segoe UI Emoji&quot;;font-size:16px;\">Listázzuk nyelvenkénti, azon belül stílusonkénti bontásban, hogy mennyi a dvd-k legkisebb és legnagyobb ára!&nbsp;</span> \n",
                "\n",
                "<span style=\"font-size: 16px;\">a. Az oszlopok neve legyen 'Nyelv', 'Stílus', 'MinÁr' és 'MaxÁr'!<br>b.&nbsp;</span> A listából hagyjuk ki azokat a sorokat, ahol a nyelv vagy a stílus nincs megadva!  \n",
                "c. Szintén hagyjuk ki azokat a csoportokat, ahol a csoport elemszáma 3-nál kisebb!"
            ],
            "metadata": {
                "azdata_cell_guid": "9e7249de-1b59-43d8-84b1-26fa7d81fc5a"
            },
            "attachments": {}
        },
        {
            "cell_type": "code",
            "source": [
                "select lang as \"nyelv\", stilus as \"stilus\", min(nettoar) as \"minár\", max(nettoar) as \"maxár\"\r\n",
                "from dvd\r\n",
                "group by lang, stilus\r\n",
                "having lang is not null and stilus is not null and count(id)>=3"
            ],
            "metadata": {
                "azdata_cell_guid": "6405d3e8-a9b1-45d7-aa76-3b1e785ef6cc",
                "language": "sql",
                "tags": []
            },
            "outputs": [
                {
                    "output_type": "display_data",
                    "data": {
                        "text/html": "(39 rows affected)"
                    },
                    "metadata": {}
                },
                {
                    "output_type": "display_data",
                    "data": {
                        "text/html": "Total execution time: 00:00:00.088"
                    },
                    "metadata": {}
                },
                {
                    "output_type": "execute_result",
                    "metadata": {},
                    "execution_count": 21,
                    "data": {
                        "application/vnd.dataresource+json": {
                            "schema": {
                                "fields": [
                                    {
                                        "name": "nyelv"
                                    },
                                    {
                                        "name": "stilus"
                                    },
                                    {
                                        "name": "minár"
                                    },
                                    {
                                        "name": "maxár"
                                    }
                                ]
                            },
                            "data": [
                                {
                                    "nyelv": "1",
                                    "stilus": "ásványtan",
                                    "minár": "5624",
                                    "maxár": "5624"
                                },
                                {
                                    "nyelv": "1",
                                    "stilus": "betűtípusok",
                                    "minár": "3845",
                                    "maxár": "3845"
                                },
                                {
                                    "nyelv": "2",
                                    "stilus": "felvételi",
                                    "minár": "3876",
                                    "maxár": "3876"
                                },
                                {
                                    "nyelv": "3",
                                    "stilus": "felvételi",
                                    "minár": "3102",
                                    "maxár": "3102"
                                },
                                {
                                    "nyelv": "1",
                                    "stilus": "festészet",
                                    "minár": "5408",
                                    "maxár": "5408"
                                },
                                {
                                    "nyelv": "2",
                                    "stilus": "festészet",
                                    "minár": "4394",
                                    "maxár": "4394"
                                },
                                {
                                    "nyelv": "1",
                                    "stilus": "filmtörténet",
                                    "minár": "3138",
                                    "maxár": "4204"
                                },
                                {
                                    "nyelv": "8",
                                    "stilus": "fordító program",
                                    "minár": "5036",
                                    "maxár": "5036"
                                },
                                {
                                    "nyelv": "1",
                                    "stilus": "gépírás",
                                    "minár": "3936",
                                    "maxár": "3936"
                                },
                                {
                                    "nyelv": "1",
                                    "stilus": "hadtudomány",
                                    "minár": "3515",
                                    "maxár": "3515"
                                },
                                {
                                    "nyelv": "1",
                                    "stilus": "humor",
                                    "minár": "5573",
                                    "maxár": "5573"
                                },
                                {
                                    "nyelv": "1",
                                    "stilus": "irodalom, nyelv",
                                    "minár": "4704",
                                    "maxár": "4704"
                                },
                                {
                                    "nyelv": "1",
                                    "stilus": "ismeretterjesztő + játék",
                                    "minár": "3107",
                                    "maxár": "3107"
                                },
                                {
                                    "nyelv": "2",
                                    "stilus": "játék - autós",
                                    "minár": "3989",
                                    "maxár": "3989"
                                },
                                {
                                    "nyelv": "2",
                                    "stilus": "játék (jégkorong)",
                                    "minár": "5242",
                                    "maxár": "5242"
                                },
                                {
                                    "nyelv": "1",
                                    "stilus": "játék (labdarúgás)",
                                    "minár": "5522",
                                    "maxár": "5522"
                                },
                                {
                                    "nyelv": "2",
                                    "stilus": "játék (labdarúgás)",
                                    "minár": "3871",
                                    "maxár": "5059"
                                },
                                {
                                    "nyelv": "2",
                                    "stilus": "játék (repülős)",
                                    "minár": "4311",
                                    "maxár": "4311"
                                },
                                {
                                    "nyelv": "2",
                                    "stilus": "játék (rodeó)",
                                    "minár": "5591",
                                    "maxár": "5591"
                                },
                                {
                                    "nyelv": "2",
                                    "stilus": "játék (történelmi)",
                                    "minár": "3707",
                                    "maxár": "3707"
                                },
                                {
                                    "nyelv": "1",
                                    "stilus": "játék, sakk",
                                    "minár": "3644",
                                    "maxár": "3644"
                                },
                                {
                                    "nyelv": "1",
                                    "stilus": "kémia",
                                    "minár": "5094",
                                    "maxár": "5094"
                                },
                                {
                                    "nyelv": "2",
                                    "stilus": "kerttervező",
                                    "minár": "4951",
                                    "maxár": "4951"
                                },
                                {
                                    "nyelv": "1",
                                    "stilus": "környezetvédelem",
                                    "minár": "5508",
                                    "maxár": "5508"
                                },
                                {
                                    "nyelv": "1",
                                    "stilus": "kresz",
                                    "minár": "5476",
                                    "maxár": "5476"
                                },
                                {
                                    "nyelv": "2",
                                    "stilus": "lakástervező",
                                    "minár": "4287",
                                    "maxár": "4287"
                                },
                                {
                                    "nyelv": "1",
                                    "stilus": "matematika, nyelvtan",
                                    "minár": "4484",
                                    "maxár": "4484"
                                },
                                {
                                    "nyelv": "2",
                                    "stilus": "múvészet",
                                    "minár": "5118",
                                    "maxár": "5118"
                                },
                                {
                                    "nyelv": "1",
                                    "stilus": "növénytan",
                                    "minár": "4438",
                                    "maxár": "4438"
                                },
                                {
                                    "nyelv": "5",
                                    "stilus": "nyelvtanító",
                                    "minár": "6009",
                                    "maxár": "6009"
                                },
                                {
                                    "nyelv": "2",
                                    "stilus": "régészet",
                                    "minár": "3773",
                                    "maxár": "3773"
                                },
                                {
                                    "nyelv": "1",
                                    "stilus": "sport",
                                    "minár": "4607",
                                    "maxár": "4607"
                                },
                                {
                                    "nyelv": "1",
                                    "stilus": "színház",
                                    "minár": "5158",
                                    "maxár": "5158"
                                },
                                {
                                    "nyelv": "4",
                                    "stilus": "szótár",
                                    "minár": "4107",
                                    "maxár": "4107"
                                },
                                {
                                    "nyelv": "5",
                                    "stilus": "szótár",
                                    "minár": "4666",
                                    "maxár": "4666"
                                },
                                {
                                    "nyelv": "6",
                                    "stilus": "szótár",
                                    "minár": "5734",
                                    "maxár": "5734"
                                },
                                {
                                    "nyelv": "7",
                                    "stilus": "szótár",
                                    "minár": "3566",
                                    "maxár": "3566"
                                },
                                {
                                    "nyelv": "2",
                                    "stilus": "történelem",
                                    "minár": "5041",
                                    "maxár": "5041"
                                },
                                {
                                    "nyelv": "2",
                                    "stilus": "zene",
                                    "minár": "5336",
                                    "maxár": "5336"
                                }
                            ]
                        },
                        "text/html": [
                            "<table>",
                            "<tr><th>nyelv</th><th>stilus</th><th>minár</th><th>maxár</th></tr>",
                            "<tr><td>1</td><td>ásványtan</td><td>5624</td><td>5624</td></tr>",
                            "<tr><td>1</td><td>betűtípusok</td><td>3845</td><td>3845</td></tr>",
                            "<tr><td>2</td><td>felvételi</td><td>3876</td><td>3876</td></tr>",
                            "<tr><td>3</td><td>felvételi</td><td>3102</td><td>3102</td></tr>",
                            "<tr><td>1</td><td>festészet</td><td>5408</td><td>5408</td></tr>",
                            "<tr><td>2</td><td>festészet</td><td>4394</td><td>4394</td></tr>",
                            "<tr><td>1</td><td>filmtörténet</td><td>3138</td><td>4204</td></tr>",
                            "<tr><td>8</td><td>fordító program</td><td>5036</td><td>5036</td></tr>",
                            "<tr><td>1</td><td>gépírás</td><td>3936</td><td>3936</td></tr>",
                            "<tr><td>1</td><td>hadtudomány</td><td>3515</td><td>3515</td></tr>",
                            "<tr><td>1</td><td>humor</td><td>5573</td><td>5573</td></tr>",
                            "<tr><td>1</td><td>irodalom, nyelv</td><td>4704</td><td>4704</td></tr>",
                            "<tr><td>1</td><td>ismeretterjesztő + játék</td><td>3107</td><td>3107</td></tr>",
                            "<tr><td>2</td><td>játék - autós</td><td>3989</td><td>3989</td></tr>",
                            "<tr><td>2</td><td>játék (jégkorong)</td><td>5242</td><td>5242</td></tr>",
                            "<tr><td>1</td><td>játék (labdarúgás)</td><td>5522</td><td>5522</td></tr>",
                            "<tr><td>2</td><td>játék (labdarúgás)</td><td>3871</td><td>5059</td></tr>",
                            "<tr><td>2</td><td>játék (repülős)</td><td>4311</td><td>4311</td></tr>",
                            "<tr><td>2</td><td>játék (rodeó)</td><td>5591</td><td>5591</td></tr>",
                            "<tr><td>2</td><td>játék (történelmi)</td><td>3707</td><td>3707</td></tr>",
                            "<tr><td>1</td><td>játék, sakk</td><td>3644</td><td>3644</td></tr>",
                            "<tr><td>1</td><td>kémia</td><td>5094</td><td>5094</td></tr>",
                            "<tr><td>2</td><td>kerttervező</td><td>4951</td><td>4951</td></tr>",
                            "<tr><td>1</td><td>környezetvédelem</td><td>5508</td><td>5508</td></tr>",
                            "<tr><td>1</td><td>kresz</td><td>5476</td><td>5476</td></tr>",
                            "<tr><td>2</td><td>lakástervező</td><td>4287</td><td>4287</td></tr>",
                            "<tr><td>1</td><td>matematika, nyelvtan</td><td>4484</td><td>4484</td></tr>",
                            "<tr><td>2</td><td>múvészet</td><td>5118</td><td>5118</td></tr>",
                            "<tr><td>1</td><td>növénytan</td><td>4438</td><td>4438</td></tr>",
                            "<tr><td>5</td><td>nyelvtanító</td><td>6009</td><td>6009</td></tr>",
                            "<tr><td>2</td><td>régészet</td><td>3773</td><td>3773</td></tr>",
                            "<tr><td>1</td><td>sport</td><td>4607</td><td>4607</td></tr>",
                            "<tr><td>1</td><td>színház</td><td>5158</td><td>5158</td></tr>",
                            "<tr><td>4</td><td>szótár</td><td>4107</td><td>4107</td></tr>",
                            "<tr><td>5</td><td>szótár</td><td>4666</td><td>4666</td></tr>",
                            "<tr><td>6</td><td>szótár</td><td>5734</td><td>5734</td></tr>",
                            "<tr><td>7</td><td>szótár</td><td>3566</td><td>3566</td></tr>",
                            "<tr><td>2</td><td>történelem</td><td>5041</td><td>5041</td></tr>",
                            "<tr><td>2</td><td>zene</td><td>5336</td><td>5336</td></tr>",
                            "</table>"
                        ]
                    }
                }
            ],
            "execution_count": 21
        },
        {
            "cell_type": "markdown",
            "source": [
                "4. <span style=\"color: rgb(36, 41, 47); font-family: -apple-system, BlinkMacSystemFont, &quot;Segoe UI&quot;, Helvetica, Arial, sans-serif, &quot;Apple Color Emoji&quot;, &quot;Segoe UI Emoji&quot;; font-size: 16px;\">Készítsünk listát, amely a csoportokat hoz létre aszerint, hogy a mai naptól számítva hány nap telt el a kölcsönzés kezdete óta. A lista jelenítse meg csoportonkénti bontásban a kikölcsönzött dvd-k számát!</span>\n",
                "\n",
                "1. Az oszlopokat nevezzük el értelemszerűen!\n",
                "2. A listát rendezzük az eltelt napok száma szerint csökkenő sorrendbe!"
            ],
            "metadata": {
                "azdata_cell_guid": "6478e469-c094-472c-a772-ccd5b5c61516"
            },
            "attachments": {}
        },
        {
            "cell_type": "code",
            "source": [
                "select datediff(day,ki_datum,getdate()) as \"eltelt idő\", count(ki_datum) as \"dvd-k száma\"\r\n",
                "from kolcsonzesek\r\n",
                "group by datediff(day,ki_datum,getdate())\r\n",
                "order by datediff(day,ki_datum,getdate()) desc"
            ],
            "metadata": {
                "azdata_cell_guid": "02031ea2-3838-458d-839c-228e3b362b61",
                "language": "sql"
            },
            "outputs": [
                {
                    "output_type": "display_data",
                    "data": {
                        "text/html": "(3 rows affected)"
                    },
                    "metadata": {}
                },
                {
                    "output_type": "display_data",
                    "data": {
                        "text/html": "Total execution time: 00:00:00.076"
                    },
                    "metadata": {}
                },
                {
                    "output_type": "execute_result",
                    "metadata": {},
                    "execution_count": 25,
                    "data": {
                        "application/vnd.dataresource+json": {
                            "schema": {
                                "fields": [
                                    {
                                        "name": "eltelt idő"
                                    },
                                    {
                                        "name": "dvd-k száma"
                                    }
                                ]
                            },
                            "data": [
                                {
                                    "eltelt idő": "7758",
                                    "dvd-k száma": "3"
                                },
                                {
                                    "eltelt idő": "6733",
                                    "dvd-k száma": "1"
                                },
                                {
                                    "eltelt idő": "6732",
                                    "dvd-k száma": "1"
                                }
                            ]
                        },
                        "text/html": [
                            "<table>",
                            "<tr><th>eltelt idő</th><th>dvd-k száma</th></tr>",
                            "<tr><td>7758</td><td>3</td></tr>",
                            "<tr><td>6733</td><td>1</td></tr>",
                            "<tr><td>6732</td><td>1</td></tr>",
                            "</table>"
                        ]
                    }
                }
            ],
            "execution_count": 25
        },
        {
            "cell_type": "markdown",
            "source": [
                "5. <span style=\"color: rgb(36, 41, 47); font-family: -apple-system, BlinkMacSystemFont, &quot;Segoe UI&quot;, Helvetica, Arial, sans-serif, &quot;Apple Color Emoji&quot;, &quot;Segoe UI Emoji&quot;; font-size: 16px;\">A kölcsönző tulajdonosa elhatározza, hogy ezentúl kerekebb árakat alkalmaz. Ezért minden dvd árát 1000 Ft-ra kerekíti. Készítsünk lekérdezést, amely megmutatja, hogy melyik 1000 Ft-ra kerekített ár szerint, azon belül stílus szerint hány db dvd összesen raktáron! **</span>\n",
                "\n",
                "1. Csak olyan csoportokat listázzunk, ahol a raktárkészlet legalább 30!\n",
                "2. A listát rendezzük kerekített ár szerint, azon belül raktárkészlet szerint növekvő sorrendbe!"
            ],
            "metadata": {
                "azdata_cell_guid": "9edbbaf9-c276-4898-9a01-e1b2993c089f"
            },
            "attachments": {}
        },
        {
            "cell_type": "code",
            "source": [
                "SELECT round(nettoar,-3), stilus, sum([raktár készlet]) as \"dvd-k száma stílusonként\"\r\n",
                "from dvd\r\n",
                "group by round(nettoar,-3),stilus, [raktár készlet]\r\n",
                "having sum([raktár készlet])>=30\r\n",
                "order by 1,3"
            ],
            "metadata": {
                "azdata_cell_guid": "5ad5fdcb-2878-4111-861a-833bcd50e935",
                "language": "sql"
            },
            "outputs": [
                {
                    "output_type": "display_data",
                    "data": {
                        "text/html": "(27 rows affected)"
                    },
                    "metadata": {}
                },
                {
                    "output_type": "display_data",
                    "data": {
                        "text/html": "Total execution time: 00:00:00.081"
                    },
                    "metadata": {}
                },
                {
                    "output_type": "execute_result",
                    "metadata": {},
                    "execution_count": 46,
                    "data": {
                        "application/vnd.dataresource+json": {
                            "schema": {
                                "fields": [
                                    {
                                        "name": "(No column name)"
                                    },
                                    {
                                        "name": "stilus"
                                    },
                                    {
                                        "name": "dvd-k száma stílusonként"
                                    }
                                ]
                            },
                            "data": [
                                {
                                    "(No column name)": "3300",
                                    "stilus": "ismeretterjesztő",
                                    "dvd-k száma stílusonként": "30"
                                },
                                {
                                    "(No column name)": "3400",
                                    "stilus": "ismeretterjesztő",
                                    "dvd-k száma stílusonként": "30"
                                },
                                {
                                    "(No column name)": "3700",
                                    "stilus": "történelem",
                                    "dvd-k száma stílusonként": "40"
                                },
                                {
                                    "(No column name)": "3800",
                                    "stilus": "nyelvtanító",
                                    "dvd-k száma stílusonként": "30"
                                },
                                {
                                    "(No column name)": "4100",
                                    "stilus": "játék",
                                    "dvd-k száma stílusonként": "30"
                                },
                                {
                                    "(No column name)": "4200",
                                    "stilus": "történelem",
                                    "dvd-k száma stílusonként": "30"
                                },
                                {
                                    "(No column name)": "4300",
                                    "stilus": "játék",
                                    "dvd-k száma stílusonként": "30"
                                },
                                {
                                    "(No column name)": "4400",
                                    "stilus": "nyelvtanító",
                                    "dvd-k száma stílusonként": "30"
                                },
                                {
                                    "(No column name)": "4400",
                                    "stilus": "történelem",
                                    "dvd-k száma stílusonként": "40"
                                },
                                {
                                    "(No column name)": "4500",
                                    "stilus": "ismeretterjesztő",
                                    "dvd-k száma stílusonként": "30"
                                },
                                {
                                    "(No column name)": "4500",
                                    "stilus": "játék",
                                    "dvd-k száma stílusonként": "40"
                                },
                                {
                                    "(No column name)": "4600",
                                    "stilus": "nyelvtanító",
                                    "dvd-k száma stílusonként": "40"
                                },
                                {
                                    "(No column name)": "4800",
                                    "stilus": "történelem",
                                    "dvd-k száma stílusonként": "30"
                                },
                                {
                                    "(No column name)": "4900",
                                    "stilus": "ismeretterjesztő",
                                    "dvd-k száma stílusonként": "30"
                                },
                                {
                                    "(No column name)": "4900",
                                    "stilus": "nyelvtanító",
                                    "dvd-k száma stílusonként": "30"
                                },
                                {
                                    "(No column name)": "5000",
                                    "stilus": "játék",
                                    "dvd-k száma stílusonként": "30"
                                },
                                {
                                    "(No column name)": "5300",
                                    "stilus": "földrajz",
                                    "dvd-k száma stílusonként": "30"
                                },
                                {
                                    "(No column name)": "5400",
                                    "stilus": "ismeretterjesztő",
                                    "dvd-k száma stílusonként": "40"
                                },
                                {
                                    "(No column name)": "5400",
                                    "stilus": "játék",
                                    "dvd-k száma stílusonként": "40"
                                },
                                {
                                    "(No column name)": "5400",
                                    "stilus": "nyelvtanító",
                                    "dvd-k száma stílusonként": "30"
                                },
                                {
                                    "(No column name)": "5500",
                                    "stilus": "ismeretterjesztő",
                                    "dvd-k száma stílusonként": "40"
                                },
                                {
                                    "(No column name)": "5500",
                                    "stilus": "játék",
                                    "dvd-k száma stílusonként": "30"
                                },
                                {
                                    "(No column name)": "5600",
                                    "stilus": "történelem",
                                    "dvd-k száma stílusonként": "30"
                                },
                                {
                                    "(No column name)": "5700",
                                    "stilus": "játék",
                                    "dvd-k száma stílusonként": "30"
                                },
                                {
                                    "(No column name)": "5800",
                                    "stilus": "játék",
                                    "dvd-k száma stílusonként": "40"
                                },
                                {
                                    "(No column name)": "6100",
                                    "stilus": "játék",
                                    "dvd-k száma stílusonként": "30"
                                },
                                {
                                    "(No column name)": "6100",
                                    "stilus": "nyelvtanító",
                                    "dvd-k száma stílusonként": "40"
                                }
                            ]
                        },
                        "text/html": [
                            "<table>",
                            "<tr><th>(No column name)</th><th>stilus</th><th>dvd-k száma stílusonként</th></tr>",
                            "<tr><td>3300</td><td>ismeretterjesztő</td><td>30</td></tr>",
                            "<tr><td>3400</td><td>ismeretterjesztő</td><td>30</td></tr>",
                            "<tr><td>3700</td><td>történelem</td><td>40</td></tr>",
                            "<tr><td>3800</td><td>nyelvtanító</td><td>30</td></tr>",
                            "<tr><td>4100</td><td>játék</td><td>30</td></tr>",
                            "<tr><td>4200</td><td>történelem</td><td>30</td></tr>",
                            "<tr><td>4300</td><td>játék</td><td>30</td></tr>",
                            "<tr><td>4400</td><td>nyelvtanító</td><td>30</td></tr>",
                            "<tr><td>4400</td><td>történelem</td><td>40</td></tr>",
                            "<tr><td>4500</td><td>ismeretterjesztő</td><td>30</td></tr>",
                            "<tr><td>4500</td><td>játék</td><td>40</td></tr>",
                            "<tr><td>4600</td><td>nyelvtanító</td><td>40</td></tr>",
                            "<tr><td>4800</td><td>történelem</td><td>30</td></tr>",
                            "<tr><td>4900</td><td>ismeretterjesztő</td><td>30</td></tr>",
                            "<tr><td>4900</td><td>nyelvtanító</td><td>30</td></tr>",
                            "<tr><td>5000</td><td>játék</td><td>30</td></tr>",
                            "<tr><td>5300</td><td>földrajz</td><td>30</td></tr>",
                            "<tr><td>5400</td><td>ismeretterjesztő</td><td>40</td></tr>",
                            "<tr><td>5400</td><td>játék</td><td>40</td></tr>",
                            "<tr><td>5400</td><td>nyelvtanító</td><td>30</td></tr>",
                            "<tr><td>5500</td><td>ismeretterjesztő</td><td>40</td></tr>",
                            "<tr><td>5500</td><td>játék</td><td>30</td></tr>",
                            "<tr><td>5600</td><td>történelem</td><td>30</td></tr>",
                            "<tr><td>5700</td><td>játék</td><td>30</td></tr>",
                            "<tr><td>5800</td><td>játék</td><td>40</td></tr>",
                            "<tr><td>6100</td><td>játék</td><td>30</td></tr>",
                            "<tr><td>6100</td><td>nyelvtanító</td><td>40</td></tr>",
                            "</table>"
                        ]
                    }
                }
            ],
            "execution_count": 46
        },
        {
            "cell_type": "markdown",
            "source": [
                "6. <span style=\"font-weight: 600; color: rgb(36, 41, 47); font-family: -apple-system, BlinkMacSystemFont, &quot;Segoe UI&quot;, Helvetica, Arial, sans-serif, &quot;Apple Color Emoji&quot;, &quot;Segoe UI Emoji&quot;; font-size: 16px;\">A dvd-ket csoportosíthatjuk aszerint, hogy milyen hosszú a címük. Amelyiknél a cím hosszúsága 10 karakter alatt van, az legyen Rövid, 10-20-ig Átlagos, 20 felett Hosszú. Hány Rövid, Átlagos, illetve Hosszú dvd-van összesen raktáron?</span>\n",
                "\n",
                "1. Az oszlopok neve legyen 'Cím hosszúság' és 'Darabszám"
            ],
            "metadata": {
                "azdata_cell_guid": "5fe65c1c-2479-45ac-ad03-ec99d12eae21"
            },
            "attachments": {}
        },
        {
            "cell_type": "code",
            "source": [
                "select\r\n",
                "    case\r\n",
                "        when len(cim)<10 then 'rövid'\r\n",
                "        when len(cim) between 10 and 20 then 'átlagos'\r\n",
                "        when  len(cim)>20 then 'hosszú'\r\n",
                "        end as \"cím hosszúság\", sum([raktár készlet]) as \"Darabszám\"\r\n",
                "from dvd\r\n",
                "group by case\r\n",
                "        when len(cim)<10 then 'rövid'\r\n",
                "        when len(cim) between 10 and 20 then 'átlagos'\r\n",
                "        when  len(cim)>20 then 'hosszú'\r\n",
                "        end"
            ],
            "metadata": {
                "azdata_cell_guid": "924f2dde-f1c2-4def-a7f9-dbf4bace7735",
                "language": "sql"
            },
            "outputs": [
                {
                    "output_type": "display_data",
                    "data": {
                        "text/html": "(4 rows affected)"
                    },
                    "metadata": {}
                },
                {
                    "output_type": "display_data",
                    "data": {
                        "text/html": "Total execution time: 00:00:00.147"
                    },
                    "metadata": {}
                },
                {
                    "output_type": "execute_result",
                    "metadata": {},
                    "execution_count": 60,
                    "data": {
                        "application/vnd.dataresource+json": {
                            "schema": {
                                "fields": [
                                    {
                                        "name": "cím hosszúság"
                                    },
                                    {
                                        "name": "Darabszám"
                                    }
                                ]
                            },
                            "data": [
                                {
                                    "cím hosszúság": "NULL",
                                    "Darabszám": "10"
                                },
                                {
                                    "cím hosszúság": "átlagos",
                                    "Darabszám": "930"
                                },
                                {
                                    "cím hosszúság": "hosszú",
                                    "Darabszám": "2118"
                                },
                                {
                                    "cím hosszúság": "rövid",
                                    "Darabszám": "120"
                                }
                            ]
                        },
                        "text/html": [
                            "<table>",
                            "<tr><th>cím hosszúság</th><th>Darabszám</th></tr>",
                            "<tr><td>NULL</td><td>10</td></tr>",
                            "<tr><td>átlagos</td><td>930</td></tr>",
                            "<tr><td>hosszú</td><td>2118</td></tr>",
                            "<tr><td>rövid</td><td>120</td></tr>",
                            "</table>"
                        ]
                    }
                }
            ],
            "execution_count": 60
        },
        {
            "cell_type": "markdown",
            "source": [
                "7. <span style=\"color: rgb(36, 41, 47); font-family: -apple-system, BlinkMacSystemFont, &quot;Segoe UI&quot;, Helvetica, Arial, sans-serif, &quot;Apple Color Emoji&quot;, &quot;Segoe UI Emoji&quot;; font-size: 16px;\">Készítsünk listát arról, hogy melyik teremben hány óra van!</span>\n",
                "\n",
                "1. Jelenítsük meg a termek azonosítóit és a teremben tartott órák számát!\n",
                "2. Az oszlopokat nevezzük el értelemszerűen!\n",
                "3. Szűrjünk azokra a termekre, ahol az órák száma legalább 3!"
            ],
            "metadata": {
                "azdata_cell_guid": "3aeb6bf5-b111-40d5-92b2-9712ce335696"
            },
            "attachments": {}
        },
        {
            "cell_type": "code",
            "source": [
                "select terem, count(ora_id)\r\n",
                "from orak\r\n",
                "group by terem\r\n",
                "having count(ora_id)>=3"
            ],
            "metadata": {
                "azdata_cell_guid": "3e89b651-f56f-4102-af52-30eb2bbe360d",
                "language": "sql"
            },
            "outputs": [
                {
                    "output_type": "display_data",
                    "data": {
                        "text/html": "(11 rows affected)"
                    },
                    "metadata": {}
                },
                {
                    "output_type": "display_data",
                    "data": {
                        "text/html": "Total execution time: 00:00:00.070"
                    },
                    "metadata": {}
                },
                {
                    "output_type": "execute_result",
                    "metadata": {},
                    "execution_count": 63,
                    "data": {
                        "application/vnd.dataresource+json": {
                            "schema": {
                                "fields": [
                                    {
                                        "name": "terem"
                                    },
                                    {
                                        "name": "(No column name)"
                                    }
                                ]
                            },
                            "data": [
                                {
                                    "terem": "2",
                                    "(No column name)": "5"
                                },
                                {
                                    "terem": "3",
                                    "(No column name)": "11"
                                },
                                {
                                    "terem": "4",
                                    "(No column name)": "8"
                                },
                                {
                                    "terem": "5",
                                    "(No column name)": "5"
                                },
                                {
                                    "terem": "6",
                                    "(No column name)": "6"
                                },
                                {
                                    "terem": "7",
                                    "(No column name)": "6"
                                },
                                {
                                    "terem": "8",
                                    "(No column name)": "6"
                                },
                                {
                                    "terem": "10",
                                    "(No column name)": "3"
                                },
                                {
                                    "terem": "12",
                                    "(No column name)": "3"
                                },
                                {
                                    "terem": "13",
                                    "(No column name)": "5"
                                },
                                {
                                    "terem": "14",
                                    "(No column name)": "3"
                                }
                            ]
                        },
                        "text/html": [
                            "<table>",
                            "<tr><th>terem</th><th>(No column name)</th></tr>",
                            "<tr><td>2</td><td>5</td></tr>",
                            "<tr><td>3</td><td>11</td></tr>",
                            "<tr><td>4</td><td>8</td></tr>",
                            "<tr><td>5</td><td>5</td></tr>",
                            "<tr><td>6</td><td>6</td></tr>",
                            "<tr><td>7</td><td>6</td></tr>",
                            "<tr><td>8</td><td>6</td></tr>",
                            "<tr><td>10</td><td>3</td></tr>",
                            "<tr><td>12</td><td>3</td></tr>",
                            "<tr><td>13</td><td>5</td></tr>",
                            "<tr><td>14</td><td>3</td></tr>",
                            "</table>"
                        ]
                    }
                }
            ],
            "execution_count": 63
        },
        {
            "cell_type": "markdown",
            "source": [
                "8. <span style=\"color: rgb(36, 41, 47); font-family: -apple-system, BlinkMacSystemFont, &quot;Segoe UI&quot;, Helvetica, Arial, sans-serif, &quot;Apple Color Emoji&quot;, &quot;Segoe UI Emoji&quot;; font-size: 16px;\">Készítsünk lekérdezést, amely megadja, hogy minimálian és maximálisan hány kreditet ér egy tantárgy!</span>\n",
                "\n",
                "1. Az oszlopokat nevezzük el értelemszerűen!\n",
                "2. Ne vegyük figyelembe azokat a tantárgyakat, amelyek nevében az „alapjai” szó szerepel, vagy a tantárgy neve 10 karakternél rövidebb!"
            ],
            "metadata": {
                "azdata_cell_guid": "26a504dc-ff6a-439f-94c0-4580eca3eacf"
            },
            "attachments": {}
        },
        {
            "cell_type": "code",
            "source": [
                "select min(kredit) as \"minkredit\", max(kredit) as \"maxkredit\"\r\n",
                "from Tantárgyak\r\n",
                "where tantárgynév not like '%alapjai%' and len(tantárgynév)>=10"
            ],
            "metadata": {
                "azdata_cell_guid": "1cbb8aeb-78b5-4350-aa45-e3202fdab85b",
                "language": "sql"
            },
            "outputs": [
                {
                    "output_type": "display_data",
                    "data": {
                        "text/html": "(1 row affected)"
                    },
                    "metadata": {}
                },
                {
                    "output_type": "display_data",
                    "data": {
                        "text/html": "Total execution time: 00:00:00.067"
                    },
                    "metadata": {}
                },
                {
                    "output_type": "execute_result",
                    "metadata": {},
                    "execution_count": 68,
                    "data": {
                        "application/vnd.dataresource+json": {
                            "schema": {
                                "fields": [
                                    {
                                        "name": "minkredit"
                                    },
                                    {
                                        "name": "maxkredit"
                                    }
                                ]
                            },
                            "data": [
                                {
                                    "minkredit": "1",
                                    "maxkredit": "5"
                                }
                            ]
                        },
                        "text/html": [
                            "<table>",
                            "<tr><th>minkredit</th><th>maxkredit</th></tr>",
                            "<tr><td>1</td><td>5</td></tr>",
                            "</table>"
                        ]
                    }
                }
            ],
            "execution_count": 68
        },
        {
            "cell_type": "markdown",
            "source": [
                "9. <span style=\"color: rgb(36, 41, 47); font-family: -apple-system, BlinkMacSystemFont, &quot;Segoe UI&quot;, Helvetica, Arial, sans-serif, &quot;Apple Color Emoji&quot;, &quot;Segoe UI Emoji&quot;; font-size: 16px;\">A tapasztalat alapján a tanársegédeknek 8, az óraadóknak 10 órájuk van egy héten. A többiek annyi órát tartanak, amennyi az elvárt óraszámuk. Készítsünk lekérdezést, amely minden beosztáshoz megjeleníti, hogy hetente hány túlóra tartozik hozzá!</span>\n",
                "\n",
                "1. A lekérdezés csak a beosztások nevét és a heti túlórák számát jelenítse meg!"
            ],
            "metadata": {
                "azdata_cell_guid": "435e2860-2dd5-4877-90f4-34a43baeb53c"
            },
            "attachments": {}
        },
        {
            "cell_type": "code",
            "source": [
                "select beosztasnev,\r\n",
                "case when beosztasnev = 'Tanársegéd' then 8\r\n",
                "    when beosztasnev = 'Óraadó' then 10\r\n",
                "    else elvart\r\n",
                "    end - elvart as \"túlóra\"\r\n",
                "from Beosztasok"
            ],
            "metadata": {
                "azdata_cell_guid": "ce846351-ddbe-4d8e-b8fb-2a92c73ac80b",
                "language": "sql"
            },
            "outputs": [
                {
                    "output_type": "display_data",
                    "data": {
                        "text/html": "(7 rows affected)"
                    },
                    "metadata": {}
                },
                {
                    "output_type": "display_data",
                    "data": {
                        "text/html": "Total execution time: 00:00:00.091"
                    },
                    "metadata": {}
                },
                {
                    "output_type": "execute_result",
                    "metadata": {},
                    "execution_count": 72,
                    "data": {
                        "application/vnd.dataresource+json": {
                            "schema": {
                                "fields": [
                                    {
                                        "name": "beosztasnev"
                                    },
                                    {
                                        "name": "túlóra"
                                    }
                                ]
                            },
                            "data": [
                                {
                                    "beosztasnev": "Óraadó",
                                    "túlóra": "4"
                                },
                                {
                                    "beosztasnev": "Tanársegéd",
                                    "túlóra": "2"
                                },
                                {
                                    "beosztasnev": "Adjunktus",
                                    "túlóra": "0"
                                },
                                {
                                    "beosztasnev": "Docens",
                                    "túlóra": "0"
                                },
                                {
                                    "beosztasnev": "Professzor",
                                    "túlóra": "0"
                                },
                                {
                                    "beosztasnev": "Egyetemi tanár",
                                    "túlóra": "0"
                                },
                                {
                                    "beosztasnev": "Tudományos munkatárs",
                                    "túlóra": "0"
                                }
                            ]
                        },
                        "text/html": [
                            "<table>",
                            "<tr><th>beosztasnev</th><th>túlóra</th></tr>",
                            "<tr><td>Óraadó</td><td>4</td></tr>",
                            "<tr><td>Tanársegéd</td><td>2</td></tr>",
                            "<tr><td>Adjunktus</td><td>0</td></tr>",
                            "<tr><td>Docens</td><td>0</td></tr>",
                            "<tr><td>Professzor</td><td>0</td></tr>",
                            "<tr><td>Egyetemi tanár</td><td>0</td></tr>",
                            "<tr><td>Tudományos munkatárs</td><td>0</td></tr>",
                            "</table>"
                        ]
                    }
                }
            ],
            "execution_count": 72
        },
        {
            "cell_type": "markdown",
            "source": [
                "10. <span style=\"font-weight: 600; color: rgb(36, 41, 47); font-family: -apple-system, BlinkMacSystemFont, &quot;Segoe UI&quot;, Helvetica, Arial, sans-serif, &quot;Apple Color Emoji&quot;, &quot;Segoe UI Emoji&quot;; font-size: 16px;\">Melyek azok az oktatók, akiknek nincs órájuk?</span>\n",
                "\n",
                "1. Csak az oktatók neve jelenjen meg!\n",
                "2. ÖTLET: használjunk LEFT JOIN-t, és szűrjünk azokra a rekordokra, ahol NULL érték van a JOIN utáni feltétel jobb oldalán!"
            ],
            "metadata": {
                "azdata_cell_guid": "217c5772-afe2-4a7c-b913-e3a3e09d6411"
            },
            "attachments": {}
        },
        {
            "cell_type": "code",
            "source": [
                "select nev\r\n",
                "FROM Oktatok okt LEFT JOIN Orak o ON okt.oktato_id = o.tanar\r\n",
                "WHERE o.tanar IS NULL"
            ],
            "metadata": {
                "azdata_cell_guid": "a9cc0926-3dbd-4ed8-8179-1c39d64a0762",
                "language": "sql"
            },
            "outputs": [],
            "execution_count": null
        },
        {
            "cell_type": "markdown",
            "source": [
                "11. <span style=\"font-weight: 600; color: rgb(36, 41, 47); font-family: -apple-system, BlinkMacSystemFont, &quot;Segoe UI&quot;, Helvetica, Arial, sans-serif, &quot;Apple Color Emoji&quot;, &quot;Segoe UI Emoji&quot;; font-size: 16px;\">Készítsünk lekérdezést, amely részletesen megjeleníti az egyes órák fontosabb adatait, azaz</span>\n",
                "\n",
                "1. Az órák azonosítóit, a tanár nevét, a tantárgy nevét, a terem nevét és a kezdési időpontot!\n",
                "2. Az oszlopokat nevezzük el értelemszerűen!"
            ],
            "metadata": {
                "azdata_cell_guid": "d2340f5f-1614-473c-b937-85740d67f7c1"
            },
            "attachments": {}
        },
        {
            "cell_type": "code",
            "source": [
                "select o.ora_id as \"ora azonosito\", okt.nev \"tanát neve\", t.tantárgynév as \"tantárgy neve\", tm.terem as \"terem neve\", s.időpont as \"kezdés\"\r\n",
                "from orak o join oktatok okt on okt.oktato_id = o.tanar\r\n",
                "join Tantárgyak t on t.Tkód = o.targy\r\n",
                "join termek tm on tm.Tkód = o.terem\r\n",
                "join savok s on s.sav_id = o.Sav"
            ],
            "metadata": {
                "azdata_cell_guid": "e99c2c53-898f-4787-b0e6-182d106dc16f",
                "language": "sql"
            },
            "outputs": [
                {
                    "output_type": "display_data",
                    "data": {
                        "text/html": "(67 rows affected)"
                    },
                    "metadata": {}
                },
                {
                    "output_type": "display_data",
                    "data": {
                        "text/html": "Total execution time: 00:00:00.077"
                    },
                    "metadata": {}
                },
                {
                    "output_type": "execute_result",
                    "metadata": {},
                    "execution_count": 74,
                    "data": {
                        "application/vnd.dataresource+json": {
                            "schema": {
                                "fields": [
                                    {
                                        "name": "ora azonosito"
                                    },
                                    {
                                        "name": "tanát neve"
                                    },
                                    {
                                        "name": "tantárgy neve"
                                    },
                                    {
                                        "name": "terem neve"
                                    },
                                    {
                                        "name": "kezdés"
                                    }
                                ]
                            },
                            "data": [
                                {
                                    "ora azonosito": "159",
                                    "tanát neve": "Ujfalussi István",
                                    "tantárgy neve": "Az ürgeöntés alapjai",
                                    "terem neve": "117",
                                    "kezdés": "8.00"
                                },
                                {
                                    "ora azonosito": "160",
                                    "tanát neve": "Pelikán József",
                                    "tantárgy neve": "Az ürgeöntés alapjai",
                                    "terem neve": "118",
                                    "kezdés": "14.00"
                                },
                                {
                                    "ora azonosito": "161",
                                    "tanát neve": "Pelikán József",
                                    "tantárgy neve": "Az ürgeöntés alapjai",
                                    "terem neve": "118",
                                    "kezdés": "9.30"
                                },
                                {
                                    "ora azonosito": "162",
                                    "tanát neve": "Kovács András",
                                    "tantárgy neve": "Az ürgeöntés alapjai",
                                    "terem neve": "119",
                                    "kezdés": "12.30"
                                },
                                {
                                    "ora azonosito": "163",
                                    "tanát neve": "Szerb László",
                                    "tantárgy neve": "Az ürgeöntés alapjai",
                                    "terem neve": "120",
                                    "kezdés": "9.30"
                                },
                                {
                                    "ora azonosito": "164",
                                    "tanát neve": "Kiss János",
                                    "tantárgy neve": "Az ürgeöntés alapjai",
                                    "terem neve": "119",
                                    "kezdés": "11.00"
                                },
                                {
                                    "ora azonosito": "165",
                                    "tanát neve": "Szerb László",
                                    "tantárgy neve": "Az ürgeöntés alapjai",
                                    "terem neve": "119",
                                    "kezdés": "11.00"
                                },
                                {
                                    "ora azonosito": "166",
                                    "tanát neve": "Szerb László",
                                    "tantárgy neve": "Az ürgeöntés alapjai",
                                    "terem neve": "119",
                                    "kezdés": "12.30"
                                },
                                {
                                    "ora azonosito": "167",
                                    "tanát neve": "Szentágotai Istvás",
                                    "tantárgy neve": "Az ürgeöntés alapjai",
                                    "terem neve": "120",
                                    "kezdés": "12.30"
                                },
                                {
                                    "ora azonosito": "168",
                                    "tanát neve": "Ujfalussi István",
                                    "tantárgy neve": "Az ürgeöntés alapjai",
                                    "terem neve": "217",
                                    "kezdés": "11.00"
                                },
                                {
                                    "ora azonosito": "169",
                                    "tanát neve": "Kovács András",
                                    "tantárgy neve": "Az ürgeöntés alapjai",
                                    "terem neve": "218",
                                    "kezdés": "9.30"
                                },
                                {
                                    "ora azonosito": "170",
                                    "tanát neve": "Ludas Mátyás",
                                    "tantárgy neve": "Az ürgeöntés alapjai",
                                    "terem neve": "120",
                                    "kezdés": "9.30"
                                },
                                {
                                    "ora azonosito": "171",
                                    "tanát neve": "Szénási ászló",
                                    "tantárgy neve": "Az ürgeöntés alapjai",
                                    "terem neve": "220",
                                    "kezdés": "9.30"
                                },
                                {
                                    "ora azonosito": "172",
                                    "tanát neve": "Kiss János",
                                    "tantárgy neve": "Az ürgeöntés alapjai",
                                    "terem neve": "119",
                                    "kezdés": "9.30"
                                },
                                {
                                    "ora azonosito": "173",
                                    "tanát neve": "Kovács András",
                                    "tantárgy neve": "Az ürgeöntés alapjai",
                                    "terem neve": "119",
                                    "kezdés": "11.00"
                                },
                                {
                                    "ora azonosito": "174",
                                    "tanát neve": "Ludas Mátyás",
                                    "tantárgy neve": "Az ürgeöntés alapjai",
                                    "terem neve": "219",
                                    "kezdés": "11.00"
                                },
                                {
                                    "ora azonosito": "175",
                                    "tanát neve": "Szénási ászló",
                                    "tantárgy neve": "Az ürgeöntés alapjai",
                                    "terem neve": "120",
                                    "kezdés": "12.30"
                                },
                                {
                                    "ora azonosito": "176",
                                    "tanát neve": "Kovács András",
                                    "tantárgy neve": "Az ürgeöntés alapjai",
                                    "terem neve": "118",
                                    "kezdés": "12.30"
                                },
                                {
                                    "ora azonosito": "177",
                                    "tanát neve": "Szentágotai Istvás",
                                    "tantárgy neve": "Az ürgeöntés alapjai",
                                    "terem neve": "119",
                                    "kezdés": "14.00"
                                },
                                {
                                    "ora azonosito": "178",
                                    "tanát neve": "Vitéz János",
                                    "tantárgy neve": "Az ürgeöntés alapjai",
                                    "terem neve": "220",
                                    "kezdés": "14.00"
                                },
                                {
                                    "ora azonosito": "179",
                                    "tanát neve": "Szentágotai Istvás",
                                    "tantárgy neve": "Az ürgeöntés alapjai",
                                    "terem neve": "120",
                                    "kezdés": "15.30"
                                },
                                {
                                    "ora azonosito": "180",
                                    "tanát neve": "Vitéz János",
                                    "tantárgy neve": "Az ürgeöntés alapjai",
                                    "terem neve": "119",
                                    "kezdés": "15.30"
                                },
                                {
                                    "ora azonosito": "181",
                                    "tanát neve": "Szentágotai Istvás",
                                    "tantárgy neve": "Az ürgeöntés alapjai",
                                    "terem neve": "118",
                                    "kezdés": "8.00"
                                },
                                {
                                    "ora azonosito": "182",
                                    "tanát neve": "Vitéz János",
                                    "tantárgy neve": "Az ürgeöntés alapjai",
                                    "terem neve": "219",
                                    "kezdés": "8.00"
                                },
                                {
                                    "ora azonosito": "183",
                                    "tanát neve": "Szentágotai Istvás",
                                    "tantárgy neve": "Az ürgeöntés alapjai",
                                    "terem neve": "220",
                                    "kezdés": "9.30"
                                },
                                {
                                    "ora azonosito": "184",
                                    "tanát neve": "Vitéz János",
                                    "tantárgy neve": "Az ürgeöntés alapjai",
                                    "terem neve": "218",
                                    "kezdés": "9.30"
                                },
                                {
                                    "ora azonosito": "185",
                                    "tanát neve": "Szentágotai Istvás",
                                    "tantárgy neve": "Az ürgeöntés alapjai",
                                    "terem neve": "120",
                                    "kezdés": "11.00"
                                },
                                {
                                    "ora azonosito": "186",
                                    "tanát neve": "Nógrádi Kata",
                                    "tantárgy neve": "ü-business",
                                    "terem neve": "219",
                                    "kezdés": "12.30"
                                },
                                {
                                    "ora azonosito": "187",
                                    "tanát neve": "Balkán András",
                                    "tantárgy neve": "Bevezetés az ürgeöntésbe",
                                    "terem neve": "217",
                                    "kezdés": "9.30"
                                },
                                {
                                    "ora azonosito": "188",
                                    "tanát neve": "Farkasos Piroska",
                                    "tantárgy neve": "Bevezetés az ürgeöntésbe",
                                    "terem neve": "VP 203.",
                                    "kezdés": "15.30"
                                },
                                {
                                    "ora azonosito": "189",
                                    "tanát neve": "Farkasos Piroska",
                                    "tantárgy neve": "Bevezetés az ürgeöntésbe",
                                    "terem neve": "VP 203.",
                                    "kezdés": "9.30"
                                },
                                {
                                    "ora azonosito": "190",
                                    "tanát neve": "Farkasos Piroska",
                                    "tantárgy neve": "Bevezetés az ürgeöntésbe",
                                    "terem neve": "E.2.238",
                                    "kezdés": "11.00"
                                },
                                {
                                    "ora azonosito": "191",
                                    "tanát neve": "Varga Kata",
                                    "tantárgy neve": "Az ürgeöntés hydrológiai alapjai II.",
                                    "terem neve": "220",
                                    "kezdés": "14.00"
                                },
                                {
                                    "ora azonosito": "192",
                                    "tanát neve": "Varga Kata",
                                    "tantárgy neve": "Az ürgeöntés hydrológiai alapjai II.",
                                    "terem neve": "119",
                                    "kezdés": "15.30"
                                },
                                {
                                    "ora azonosito": "193",
                                    "tanát neve": "Farkasos Piroska",
                                    "tantárgy neve": "Az ürgeöntés hydrológiai alapjai II.",
                                    "terem neve": "217",
                                    "kezdés": "14.00"
                                },
                                {
                                    "ora azonosito": "194",
                                    "tanát neve": "Farkasos Piroska",
                                    "tantárgy neve": "Az ürgeöntés hydrológiai alapjai II.",
                                    "terem neve": "E.fsz.I",
                                    "kezdés": "15.30"
                                },
                                {
                                    "ora azonosito": "195",
                                    "tanát neve": "Balkán András",
                                    "tantárgy neve": "Az ürgeöntés hydrológiai alapjai II.",
                                    "terem neve": "116",
                                    "kezdés": "14.00"
                                },
                                {
                                    "ora azonosito": "196",
                                    "tanát neve": "Balkán András",
                                    "tantárgy neve": "Az ürgeöntés hydrológiai alapjai II.",
                                    "terem neve": "218",
                                    "kezdés": "15.30"
                                },
                                {
                                    "ora azonosito": "197",
                                    "tanát neve": "Farkasos Piroska",
                                    "tantárgy neve": "Az ürgeöntés hydrológiai alapjai II.",
                                    "terem neve": "116",
                                    "kezdés": "8.00"
                                },
                                {
                                    "ora azonosito": "198",
                                    "tanát neve": "Farkasos Piroska",
                                    "tantárgy neve": "Az ürgeöntés hydrológiai alapjai II.",
                                    "terem neve": "119",
                                    "kezdés": "9.30"
                                },
                                {
                                    "ora azonosito": "199",
                                    "tanát neve": "Szabó Andrera",
                                    "tantárgy neve": "Az ürgeöntés hydrológiai alapjai II.",
                                    "terem neve": "218",
                                    "kezdés": "8.00"
                                },
                                {
                                    "ora azonosito": "200",
                                    "tanát neve": "Szabó Andrera",
                                    "tantárgy neve": "Az ürgeöntés hydrológiai alapjai II.",
                                    "terem neve": "220",
                                    "kezdés": "9.30"
                                },
                                {
                                    "ora azonosito": "201",
                                    "tanát neve": "Juhász András",
                                    "tantárgy neve": "Öntési gyakorlat",
                                    "terem neve": "E.2.238",
                                    "kezdés": "12.30"
                                },
                                {
                                    "ora azonosito": "202",
                                    "tanát neve": "Juhász András",
                                    "tantárgy neve": "Öntési gyakorlat",
                                    "terem neve": "E.3.332",
                                    "kezdés": "14.00"
                                },
                                {
                                    "ora azonosito": "203",
                                    "tanát neve": "Aranyi Mária",
                                    "tantárgy neve": "Az ürgeöntés hydrológiai alapjai I.",
                                    "terem neve": "S.Asor.S3",
                                    "kezdés": "12.30"
                                },
                                {
                                    "ora azonosito": "204",
                                    "tanát neve": "Róbert Gida",
                                    "tantárgy neve": "Az ürgeöntés hydrológiai alapjai I.",
                                    "terem neve": "120",
                                    "kezdés": "14.00"
                                },
                                {
                                    "ora azonosito": "205",
                                    "tanát neve": "Ujfalussi István",
                                    "tantárgy neve": "Az öntés elmélete",
                                    "terem neve": "220",
                                    "kezdés": "12.30"
                                },
                                {
                                    "ora azonosito": "206",
                                    "tanát neve": "Varga Kata",
                                    "tantárgy neve": "Az öntés elmélete",
                                    "terem neve": "S.Asor.S3",
                                    "kezdés": "8.00"
                                },
                                {
                                    "ora azonosito": "207",
                                    "tanát neve": "Varga Kata",
                                    "tantárgy neve": "Az öntés elmélete",
                                    "terem neve": "219",
                                    "kezdés": "12.30"
                                },
                                {
                                    "ora azonosito": "208",
                                    "tanát neve": "Jogrerős Pál",
                                    "tantárgy neve": "Ürgevitel",
                                    "terem neve": "VP 203.",
                                    "kezdés": "8.00"
                                },
                                {
                                    "ora azonosito": "209",
                                    "tanát neve": "Jogrerős Pál",
                                    "tantárgy neve": "Ürgevitel",
                                    "terem neve": "VP 203.",
                                    "kezdés": "9.30"
                                },
                                {
                                    "ora azonosito": "210",
                                    "tanát neve": "Szép llonka",
                                    "tantárgy neve": "Ürgeöntés az EU-ban",
                                    "terem neve": "E.2.238",
                                    "kezdés": "15.30"
                                },
                                {
                                    "ora azonosito": "211",
                                    "tanát neve": "Szép llonka",
                                    "tantárgy neve": "Ürgeöntés az EU-ban",
                                    "terem neve": "217",
                                    "kezdés": "17.00"
                                },
                                {
                                    "ora azonosito": "212",
                                    "tanát neve": "Kiss János",
                                    "tantárgy neve": "Ürgeöntés az EU-ban",
                                    "terem neve": "120",
                                    "kezdés": "18.30"
                                },
                                {
                                    "ora azonosito": "213",
                                    "tanát neve": "Kiss János",
                                    "tantárgy neve": "Ürgeöntés az EU-ban",
                                    "terem neve": "218",
                                    "kezdés": "20.00"
                                },
                                {
                                    "ora azonosito": "214",
                                    "tanát neve": "Pelikán József",
                                    "tantárgy neve": "Az ürge anatómiája",
                                    "terem neve": "219",
                                    "kezdés": "11.00"
                                },
                                {
                                    "ora azonosito": "215",
                                    "tanát neve": "Pelikán József",
                                    "tantárgy neve": "Az ürge anatómiája",
                                    "terem neve": "E.fsz.IV.",
                                    "kezdés": "12.30"
                                },
                                {
                                    "ora azonosito": "216",
                                    "tanát neve": "Szép llonka",
                                    "tantárgy neve": "Az ürge anatómiája",
                                    "terem neve": "218",
                                    "kezdés": "11.00"
                                },
                                {
                                    "ora azonosito": "217",
                                    "tanát neve": "Szép llonka",
                                    "tantárgy neve": "Az ürge anatómiája",
                                    "terem neve": "217",
                                    "kezdés": "12.30"
                                },
                                {
                                    "ora azonosito": "218",
                                    "tanát neve": "Pelikán József",
                                    "tantárgy neve": "Az ürge anatómiája",
                                    "terem neve": "118",
                                    "kezdés": "15.30"
                                },
                                {
                                    "ora azonosito": "219",
                                    "tanát neve": "Pelikán József",
                                    "tantárgy neve": "Az ürge anatómiája",
                                    "terem neve": "219",
                                    "kezdés": "17.00"
                                },
                                {
                                    "ora azonosito": "220",
                                    "tanát neve": "Kovács László",
                                    "tantárgy neve": "Fejezetek az ürgék jogaiból",
                                    "terem neve": "119",
                                    "kezdés": "11.00"
                                },
                                {
                                    "ora azonosito": "221",
                                    "tanát neve": "Kovács László",
                                    "tantárgy neve": "Fejezetek az ürgék jogaiból",
                                    "terem neve": "VP 203.",
                                    "kezdés": "11.00"
                                },
                                {
                                    "ora azonosito": "222",
                                    "tanát neve": "Kovács László",
                                    "tantárgy neve": "Fejezetek az ürgék jogaiból",
                                    "terem neve": "116",
                                    "kezdés": "14.00"
                                },
                                {
                                    "ora azonosito": "223",
                                    "tanát neve": "Kovács László",
                                    "tantárgy neve": "Fejezetek az ürgék jogaiból",
                                    "terem neve": "S.Asor.S3",
                                    "kezdés": "8.00"
                                },
                                {
                                    "ora azonosito": "226",
                                    "tanát neve": "Szentágotai Istvás",
                                    "tantárgy neve": "ürgefőzés",
                                    "terem neve": "117",
                                    "kezdés": "11.00"
                                },
                                {
                                    "ora azonosito": "227",
                                    "tanát neve": "Szentágotai Istvás",
                                    "tantárgy neve": "Az ürgeöntés hydrológiai alapjai I.",
                                    "terem neve": "116",
                                    "kezdés": "14.00"
                                }
                            ]
                        },
                        "text/html": [
                            "<table>",
                            "<tr><th>ora azonosito</th><th>tanát neve</th><th>tantárgy neve</th><th>terem neve</th><th>kezdés</th></tr>",
                            "<tr><td>159</td><td>Ujfalussi István</td><td>Az ürgeöntés alapjai</td><td>117</td><td>8.00</td></tr>",
                            "<tr><td>160</td><td>Pelikán József</td><td>Az ürgeöntés alapjai</td><td>118</td><td>14.00</td></tr>",
                            "<tr><td>161</td><td>Pelikán József</td><td>Az ürgeöntés alapjai</td><td>118</td><td>9.30</td></tr>",
                            "<tr><td>162</td><td>Kovács András</td><td>Az ürgeöntés alapjai</td><td>119</td><td>12.30</td></tr>",
                            "<tr><td>163</td><td>Szerb László</td><td>Az ürgeöntés alapjai</td><td>120</td><td>9.30</td></tr>",
                            "<tr><td>164</td><td>Kiss János</td><td>Az ürgeöntés alapjai</td><td>119</td><td>11.00</td></tr>",
                            "<tr><td>165</td><td>Szerb László</td><td>Az ürgeöntés alapjai</td><td>119</td><td>11.00</td></tr>",
                            "<tr><td>166</td><td>Szerb László</td><td>Az ürgeöntés alapjai</td><td>119</td><td>12.30</td></tr>",
                            "<tr><td>167</td><td>Szentágotai Istvás</td><td>Az ürgeöntés alapjai</td><td>120</td><td>12.30</td></tr>",
                            "<tr><td>168</td><td>Ujfalussi István</td><td>Az ürgeöntés alapjai</td><td>217</td><td>11.00</td></tr>",
                            "<tr><td>169</td><td>Kovács András</td><td>Az ürgeöntés alapjai</td><td>218</td><td>9.30</td></tr>",
                            "<tr><td>170</td><td>Ludas Mátyás</td><td>Az ürgeöntés alapjai</td><td>120</td><td>9.30</td></tr>",
                            "<tr><td>171</td><td>Szénási ászló</td><td>Az ürgeöntés alapjai</td><td>220</td><td>9.30</td></tr>",
                            "<tr><td>172</td><td>Kiss János</td><td>Az ürgeöntés alapjai</td><td>119</td><td>9.30</td></tr>",
                            "<tr><td>173</td><td>Kovács András</td><td>Az ürgeöntés alapjai</td><td>119</td><td>11.00</td></tr>",
                            "<tr><td>174</td><td>Ludas Mátyás</td><td>Az ürgeöntés alapjai</td><td>219</td><td>11.00</td></tr>",
                            "<tr><td>175</td><td>Szénási ászló</td><td>Az ürgeöntés alapjai</td><td>120</td><td>12.30</td></tr>",
                            "<tr><td>176</td><td>Kovács András</td><td>Az ürgeöntés alapjai</td><td>118</td><td>12.30</td></tr>",
                            "<tr><td>177</td><td>Szentágotai Istvás</td><td>Az ürgeöntés alapjai</td><td>119</td><td>14.00</td></tr>",
                            "<tr><td>178</td><td>Vitéz János</td><td>Az ürgeöntés alapjai</td><td>220</td><td>14.00</td></tr>",
                            "<tr><td>179</td><td>Szentágotai Istvás</td><td>Az ürgeöntés alapjai</td><td>120</td><td>15.30</td></tr>",
                            "<tr><td>180</td><td>Vitéz János</td><td>Az ürgeöntés alapjai</td><td>119</td><td>15.30</td></tr>",
                            "<tr><td>181</td><td>Szentágotai Istvás</td><td>Az ürgeöntés alapjai</td><td>118</td><td>8.00</td></tr>",
                            "<tr><td>182</td><td>Vitéz János</td><td>Az ürgeöntés alapjai</td><td>219</td><td>8.00</td></tr>",
                            "<tr><td>183</td><td>Szentágotai Istvás</td><td>Az ürgeöntés alapjai</td><td>220</td><td>9.30</td></tr>",
                            "<tr><td>184</td><td>Vitéz János</td><td>Az ürgeöntés alapjai</td><td>218</td><td>9.30</td></tr>",
                            "<tr><td>185</td><td>Szentágotai Istvás</td><td>Az ürgeöntés alapjai</td><td>120</td><td>11.00</td></tr>",
                            "<tr><td>186</td><td>Nógrádi Kata</td><td>ü-business</td><td>219</td><td>12.30</td></tr>",
                            "<tr><td>187</td><td>Balkán András</td><td>Bevezetés az ürgeöntésbe</td><td>217</td><td>9.30</td></tr>",
                            "<tr><td>188</td><td>Farkasos Piroska</td><td>Bevezetés az ürgeöntésbe</td><td>VP 203.</td><td>15.30</td></tr>",
                            "<tr><td>189</td><td>Farkasos Piroska</td><td>Bevezetés az ürgeöntésbe</td><td>VP 203.</td><td>9.30</td></tr>",
                            "<tr><td>190</td><td>Farkasos Piroska</td><td>Bevezetés az ürgeöntésbe</td><td>E.2.238</td><td>11.00</td></tr>",
                            "<tr><td>191</td><td>Varga Kata</td><td>Az ürgeöntés hydrológiai alapjai II.</td><td>220</td><td>14.00</td></tr>",
                            "<tr><td>192</td><td>Varga Kata</td><td>Az ürgeöntés hydrológiai alapjai II.</td><td>119</td><td>15.30</td></tr>",
                            "<tr><td>193</td><td>Farkasos Piroska</td><td>Az ürgeöntés hydrológiai alapjai II.</td><td>217</td><td>14.00</td></tr>",
                            "<tr><td>194</td><td>Farkasos Piroska</td><td>Az ürgeöntés hydrológiai alapjai II.</td><td>E.fsz.I</td><td>15.30</td></tr>",
                            "<tr><td>195</td><td>Balkán András</td><td>Az ürgeöntés hydrológiai alapjai II.</td><td>116</td><td>14.00</td></tr>",
                            "<tr><td>196</td><td>Balkán András</td><td>Az ürgeöntés hydrológiai alapjai II.</td><td>218</td><td>15.30</td></tr>",
                            "<tr><td>197</td><td>Farkasos Piroska</td><td>Az ürgeöntés hydrológiai alapjai II.</td><td>116</td><td>8.00</td></tr>",
                            "<tr><td>198</td><td>Farkasos Piroska</td><td>Az ürgeöntés hydrológiai alapjai II.</td><td>119</td><td>9.30</td></tr>",
                            "<tr><td>199</td><td>Szabó Andrera</td><td>Az ürgeöntés hydrológiai alapjai II.</td><td>218</td><td>8.00</td></tr>",
                            "<tr><td>200</td><td>Szabó Andrera</td><td>Az ürgeöntés hydrológiai alapjai II.</td><td>220</td><td>9.30</td></tr>",
                            "<tr><td>201</td><td>Juhász András</td><td>Öntési gyakorlat</td><td>E.2.238</td><td>12.30</td></tr>",
                            "<tr><td>202</td><td>Juhász András</td><td>Öntési gyakorlat</td><td>E.3.332</td><td>14.00</td></tr>",
                            "<tr><td>203</td><td>Aranyi Mária</td><td>Az ürgeöntés hydrológiai alapjai I.</td><td>S.Asor.S3</td><td>12.30</td></tr>",
                            "<tr><td>204</td><td>Róbert Gida</td><td>Az ürgeöntés hydrológiai alapjai I.</td><td>120</td><td>14.00</td></tr>",
                            "<tr><td>205</td><td>Ujfalussi István</td><td>Az öntés elmélete</td><td>220</td><td>12.30</td></tr>",
                            "<tr><td>206</td><td>Varga Kata</td><td>Az öntés elmélete</td><td>S.Asor.S3</td><td>8.00</td></tr>",
                            "<tr><td>207</td><td>Varga Kata</td><td>Az öntés elmélete</td><td>219</td><td>12.30</td></tr>",
                            "<tr><td>208</td><td>Jogrerős Pál</td><td>Ürgevitel</td><td>VP 203.</td><td>8.00</td></tr>",
                            "<tr><td>209</td><td>Jogrerős Pál</td><td>Ürgevitel</td><td>VP 203.</td><td>9.30</td></tr>",
                            "<tr><td>210</td><td>Szép llonka</td><td>Ürgeöntés az EU-ban</td><td>E.2.238</td><td>15.30</td></tr>",
                            "<tr><td>211</td><td>Szép llonka</td><td>Ürgeöntés az EU-ban</td><td>217</td><td>17.00</td></tr>",
                            "<tr><td>212</td><td>Kiss János</td><td>Ürgeöntés az EU-ban</td><td>120</td><td>18.30</td></tr>",
                            "<tr><td>213</td><td>Kiss János</td><td>Ürgeöntés az EU-ban</td><td>218</td><td>20.00</td></tr>",
                            "<tr><td>214</td><td>Pelikán József</td><td>Az ürge anatómiája</td><td>219</td><td>11.00</td></tr>",
                            "<tr><td>215</td><td>Pelikán József</td><td>Az ürge anatómiája</td><td>E.fsz.IV.</td><td>12.30</td></tr>",
                            "<tr><td>216</td><td>Szép llonka</td><td>Az ürge anatómiája</td><td>218</td><td>11.00</td></tr>",
                            "<tr><td>217</td><td>Szép llonka</td><td>Az ürge anatómiája</td><td>217</td><td>12.30</td></tr>",
                            "<tr><td>218</td><td>Pelikán József</td><td>Az ürge anatómiája</td><td>118</td><td>15.30</td></tr>",
                            "<tr><td>219</td><td>Pelikán József</td><td>Az ürge anatómiája</td><td>219</td><td>17.00</td></tr>",
                            "<tr><td>220</td><td>Kovács László</td><td>Fejezetek az ürgék jogaiból</td><td>119</td><td>11.00</td></tr>",
                            "<tr><td>221</td><td>Kovács László</td><td>Fejezetek az ürgék jogaiból</td><td>VP 203.</td><td>11.00</td></tr>",
                            "<tr><td>222</td><td>Kovács László</td><td>Fejezetek az ürgék jogaiból</td><td>116</td><td>14.00</td></tr>",
                            "<tr><td>223</td><td>Kovács László</td><td>Fejezetek az ürgék jogaiból</td><td>S.Asor.S3</td><td>8.00</td></tr>",
                            "<tr><td>226</td><td>Szentágotai Istvás</td><td>ürgefőzés</td><td>117</td><td>11.00</td></tr>",
                            "<tr><td>227</td><td>Szentágotai Istvás</td><td>Az ürgeöntés hydrológiai alapjai I.</td><td>116</td><td>14.00</td></tr>",
                            "</table>"
                        ]
                    }
                }
            ],
            "execution_count": 74
        },
        {
            "cell_type": "markdown",
            "source": [
                "12. <span style=\"color: rgb(36, 41, 47); font-family: -apple-system, BlinkMacSystemFont, &quot;Segoe UI&quot;, Helvetica, Arial, sans-serif, &quot;Apple Color Emoji&quot;, &quot;Segoe UI Emoji&quot;; font-size: 16px;\">Készítsünk listát, amely tartalmazza az egyes órák azonosítóit, és az órán oktatott tantárgy felelősének nevét!</span>\n",
                "\n",
                "1. Rendezzük a listát a tantárgyfelelős neve szerint csökkenő sorrendbe!"
            ],
            "metadata": {
                "azdata_cell_guid": "a765e9d6-58b3-4171-872a-78f3118fd6e3"
            },
            "attachments": {}
        },
        {
            "cell_type": "code",
            "source": [
                "select o.ora_id, okt.nev\r\n",
                "from orak o join Tantárgyak t on t.Tkód = o.targy\r\n",
                "join oktatok okt on okt.oktato_id = t.Tantárgyfelelős\r\n",
                "order by okt.nev desc"
            ],
            "metadata": {
                "azdata_cell_guid": "422e8127-b652-4d3a-bfd7-9b1637b5781e",
                "language": "sql"
            },
            "outputs": [
                {
                    "output_type": "display_data",
                    "data": {
                        "text/html": "(67 rows affected)"
                    },
                    "metadata": {}
                },
                {
                    "output_type": "display_data",
                    "data": {
                        "text/html": "Total execution time: 00:00:00.063"
                    },
                    "metadata": {}
                },
                {
                    "output_type": "execute_result",
                    "metadata": {},
                    "execution_count": 82,
                    "data": {
                        "application/vnd.dataresource+json": {
                            "schema": {
                                "fields": [
                                    {
                                        "name": "ora_id"
                                    },
                                    {
                                        "name": "nev"
                                    }
                                ]
                            },
                            "data": [
                                {
                                    "ora_id": "203",
                                    "nev": "Ujfalussi István"
                                },
                                {
                                    "ora_id": "204",
                                    "nev": "Ujfalussi István"
                                },
                                {
                                    "ora_id": "227",
                                    "nev": "Ujfalussi István"
                                },
                                {
                                    "ora_id": "210",
                                    "nev": "Pelikán József"
                                },
                                {
                                    "ora_id": "211",
                                    "nev": "Pelikán József"
                                },
                                {
                                    "ora_id": "212",
                                    "nev": "Pelikán József"
                                },
                                {
                                    "ora_id": "213",
                                    "nev": "Pelikán József"
                                },
                                {
                                    "ora_id": "214",
                                    "nev": "Pelikán József"
                                },
                                {
                                    "ora_id": "215",
                                    "nev": "Pelikán József"
                                },
                                {
                                    "ora_id": "216",
                                    "nev": "Pelikán József"
                                },
                                {
                                    "ora_id": "217",
                                    "nev": "Pelikán József"
                                },
                                {
                                    "ora_id": "218",
                                    "nev": "Pelikán József"
                                },
                                {
                                    "ora_id": "219",
                                    "nev": "Pelikán József"
                                },
                                {
                                    "ora_id": "201",
                                    "nev": "Pelikán József"
                                },
                                {
                                    "ora_id": "202",
                                    "nev": "Pelikán József"
                                },
                                {
                                    "ora_id": "205",
                                    "nev": "Kovács László"
                                },
                                {
                                    "ora_id": "206",
                                    "nev": "Kovács László"
                                },
                                {
                                    "ora_id": "207",
                                    "nev": "Kovács László"
                                },
                                {
                                    "ora_id": "226",
                                    "nev": "Kovács László"
                                },
                                {
                                    "ora_id": "186",
                                    "nev": "Kovács László"
                                },
                                {
                                    "ora_id": "220",
                                    "nev": "Kovács László"
                                },
                                {
                                    "ora_id": "221",
                                    "nev": "Kovács László"
                                },
                                {
                                    "ora_id": "222",
                                    "nev": "Kovács László"
                                },
                                {
                                    "ora_id": "223",
                                    "nev": "Kovács László"
                                },
                                {
                                    "ora_id": "208",
                                    "nev": "Jogrerős Pál"
                                },
                                {
                                    "ora_id": "209",
                                    "nev": "Jogrerős Pál"
                                },
                                {
                                    "ora_id": "191",
                                    "nev": "Balkán András"
                                },
                                {
                                    "ora_id": "192",
                                    "nev": "Balkán András"
                                },
                                {
                                    "ora_id": "193",
                                    "nev": "Balkán András"
                                },
                                {
                                    "ora_id": "194",
                                    "nev": "Balkán András"
                                },
                                {
                                    "ora_id": "195",
                                    "nev": "Balkán András"
                                },
                                {
                                    "ora_id": "196",
                                    "nev": "Balkán András"
                                },
                                {
                                    "ora_id": "197",
                                    "nev": "Balkán András"
                                },
                                {
                                    "ora_id": "198",
                                    "nev": "Balkán András"
                                },
                                {
                                    "ora_id": "199",
                                    "nev": "Balkán András"
                                },
                                {
                                    "ora_id": "200",
                                    "nev": "Balkán András"
                                },
                                {
                                    "ora_id": "159",
                                    "nev": "Balkán András"
                                },
                                {
                                    "ora_id": "160",
                                    "nev": "Balkán András"
                                },
                                {
                                    "ora_id": "161",
                                    "nev": "Balkán András"
                                },
                                {
                                    "ora_id": "162",
                                    "nev": "Balkán András"
                                },
                                {
                                    "ora_id": "163",
                                    "nev": "Balkán András"
                                },
                                {
                                    "ora_id": "164",
                                    "nev": "Balkán András"
                                },
                                {
                                    "ora_id": "165",
                                    "nev": "Balkán András"
                                },
                                {
                                    "ora_id": "166",
                                    "nev": "Balkán András"
                                },
                                {
                                    "ora_id": "167",
                                    "nev": "Balkán András"
                                },
                                {
                                    "ora_id": "168",
                                    "nev": "Balkán András"
                                },
                                {
                                    "ora_id": "169",
                                    "nev": "Balkán András"
                                },
                                {
                                    "ora_id": "170",
                                    "nev": "Balkán András"
                                },
                                {
                                    "ora_id": "171",
                                    "nev": "Balkán András"
                                },
                                {
                                    "ora_id": "172",
                                    "nev": "Balkán András"
                                },
                                {
                                    "ora_id": "173",
                                    "nev": "Balkán András"
                                },
                                {
                                    "ora_id": "174",
                                    "nev": "Balkán András"
                                },
                                {
                                    "ora_id": "175",
                                    "nev": "Balkán András"
                                },
                                {
                                    "ora_id": "176",
                                    "nev": "Balkán András"
                                },
                                {
                                    "ora_id": "177",
                                    "nev": "Balkán András"
                                },
                                {
                                    "ora_id": "178",
                                    "nev": "Balkán András"
                                },
                                {
                                    "ora_id": "179",
                                    "nev": "Balkán András"
                                },
                                {
                                    "ora_id": "180",
                                    "nev": "Balkán András"
                                },
                                {
                                    "ora_id": "181",
                                    "nev": "Balkán András"
                                },
                                {
                                    "ora_id": "182",
                                    "nev": "Balkán András"
                                },
                                {
                                    "ora_id": "183",
                                    "nev": "Balkán András"
                                },
                                {
                                    "ora_id": "184",
                                    "nev": "Balkán András"
                                },
                                {
                                    "ora_id": "185",
                                    "nev": "Balkán András"
                                },
                                {
                                    "ora_id": "187",
                                    "nev": "Balkán András"
                                },
                                {
                                    "ora_id": "188",
                                    "nev": "Balkán András"
                                },
                                {
                                    "ora_id": "189",
                                    "nev": "Balkán András"
                                },
                                {
                                    "ora_id": "190",
                                    "nev": "Balkán András"
                                }
                            ]
                        },
                        "text/html": [
                            "<table>",
                            "<tr><th>ora_id</th><th>nev</th></tr>",
                            "<tr><td>203</td><td>Ujfalussi István</td></tr>",
                            "<tr><td>204</td><td>Ujfalussi István</td></tr>",
                            "<tr><td>227</td><td>Ujfalussi István</td></tr>",
                            "<tr><td>210</td><td>Pelikán József</td></tr>",
                            "<tr><td>211</td><td>Pelikán József</td></tr>",
                            "<tr><td>212</td><td>Pelikán József</td></tr>",
                            "<tr><td>213</td><td>Pelikán József</td></tr>",
                            "<tr><td>214</td><td>Pelikán József</td></tr>",
                            "<tr><td>215</td><td>Pelikán József</td></tr>",
                            "<tr><td>216</td><td>Pelikán József</td></tr>",
                            "<tr><td>217</td><td>Pelikán József</td></tr>",
                            "<tr><td>218</td><td>Pelikán József</td></tr>",
                            "<tr><td>219</td><td>Pelikán József</td></tr>",
                            "<tr><td>201</td><td>Pelikán József</td></tr>",
                            "<tr><td>202</td><td>Pelikán József</td></tr>",
                            "<tr><td>205</td><td>Kovács László</td></tr>",
                            "<tr><td>206</td><td>Kovács László</td></tr>",
                            "<tr><td>207</td><td>Kovács László</td></tr>",
                            "<tr><td>226</td><td>Kovács László</td></tr>",
                            "<tr><td>186</td><td>Kovács László</td></tr>",
                            "<tr><td>220</td><td>Kovács László</td></tr>",
                            "<tr><td>221</td><td>Kovács László</td></tr>",
                            "<tr><td>222</td><td>Kovács László</td></tr>",
                            "<tr><td>223</td><td>Kovács László</td></tr>",
                            "<tr><td>208</td><td>Jogrerős Pál</td></tr>",
                            "<tr><td>209</td><td>Jogrerős Pál</td></tr>",
                            "<tr><td>191</td><td>Balkán András</td></tr>",
                            "<tr><td>192</td><td>Balkán András</td></tr>",
                            "<tr><td>193</td><td>Balkán András</td></tr>",
                            "<tr><td>194</td><td>Balkán András</td></tr>",
                            "<tr><td>195</td><td>Balkán András</td></tr>",
                            "<tr><td>196</td><td>Balkán András</td></tr>",
                            "<tr><td>197</td><td>Balkán András</td></tr>",
                            "<tr><td>198</td><td>Balkán András</td></tr>",
                            "<tr><td>199</td><td>Balkán András</td></tr>",
                            "<tr><td>200</td><td>Balkán András</td></tr>",
                            "<tr><td>159</td><td>Balkán András</td></tr>",
                            "<tr><td>160</td><td>Balkán András</td></tr>",
                            "<tr><td>161</td><td>Balkán András</td></tr>",
                            "<tr><td>162</td><td>Balkán András</td></tr>",
                            "<tr><td>163</td><td>Balkán András</td></tr>",
                            "<tr><td>164</td><td>Balkán András</td></tr>",
                            "<tr><td>165</td><td>Balkán András</td></tr>",
                            "<tr><td>166</td><td>Balkán András</td></tr>",
                            "<tr><td>167</td><td>Balkán András</td></tr>",
                            "<tr><td>168</td><td>Balkán András</td></tr>",
                            "<tr><td>169</td><td>Balkán András</td></tr>",
                            "<tr><td>170</td><td>Balkán András</td></tr>",
                            "<tr><td>171</td><td>Balkán András</td></tr>",
                            "<tr><td>172</td><td>Balkán András</td></tr>",
                            "<tr><td>173</td><td>Balkán András</td></tr>",
                            "<tr><td>174</td><td>Balkán András</td></tr>",
                            "<tr><td>175</td><td>Balkán András</td></tr>",
                            "<tr><td>176</td><td>Balkán András</td></tr>",
                            "<tr><td>177</td><td>Balkán András</td></tr>",
                            "<tr><td>178</td><td>Balkán András</td></tr>",
                            "<tr><td>179</td><td>Balkán András</td></tr>",
                            "<tr><td>180</td><td>Balkán András</td></tr>",
                            "<tr><td>181</td><td>Balkán András</td></tr>",
                            "<tr><td>182</td><td>Balkán András</td></tr>",
                            "<tr><td>183</td><td>Balkán András</td></tr>",
                            "<tr><td>184</td><td>Balkán András</td></tr>",
                            "<tr><td>185</td><td>Balkán András</td></tr>",
                            "<tr><td>187</td><td>Balkán András</td></tr>",
                            "<tr><td>188</td><td>Balkán András</td></tr>",
                            "<tr><td>189</td><td>Balkán András</td></tr>",
                            "<tr><td>190</td><td>Balkán András</td></tr>",
                            "</table>"
                        ]
                    }
                }
            ],
            "execution_count": 82
        },
        {
            "cell_type": "markdown",
            "source": [
                "13. <span style=\"color: rgb(36, 41, 47); font-family: -apple-system, BlinkMacSystemFont, &quot;Segoe UI&quot;, Helvetica, Arial, sans-serif, &quot;Apple Color Emoji&quot;, &quot;Segoe UI Emoji&quot;; font-size: 16px;\">Készítsünk listát, amely megjeleníti, hogy az Orak táblában lévő órák közül hányat tart Dr., illetve nem Dr. titulusú tanár!</span>\n",
                "\n",
                "1. Az oszlopokat nevezzük el értelemszerűen!"
            ],
            "metadata": {
                "azdata_cell_guid": "3f9237ae-f109-401c-acb9-31d75e73331b"
            },
            "attachments": {}
        },
        {
            "cell_type": "code",
            "source": [
                "select\r\n",
                "case when okt.titulus = 'Dr.' then 'Dr'\r\n",
                "else 'Nem Dr'\r\n",
                "END as 'DR?',\r\n",
                "count(o.ora_id) as \"Órák száma\"\r\n",
                "from oktatok okt join orak o on okt.oktato_id = o.tanar\r\n",
                "group by case when okt.titulus = 'Dr.' then 'Dr' else 'Nem Dr' end"
            ],
            "metadata": {
                "azdata_cell_guid": "4b31bb89-cfbc-46b1-8639-85c462877786",
                "language": "sql"
            },
            "outputs": [
                {
                    "output_type": "display_data",
                    "data": {
                        "text/html": "(2 rows affected)"
                    },
                    "metadata": {}
                },
                {
                    "output_type": "display_data",
                    "data": {
                        "text/html": "Total execution time: 00:00:00.076"
                    },
                    "metadata": {}
                },
                {
                    "output_type": "execute_result",
                    "metadata": {},
                    "execution_count": 86,
                    "data": {
                        "application/vnd.dataresource+json": {
                            "schema": {
                                "fields": [
                                    {
                                        "name": "DR?"
                                    },
                                    {
                                        "name": "Órák száma"
                                    }
                                ]
                            },
                            "data": [
                                {
                                    "DR?": "Dr",
                                    "Órák száma": "25"
                                },
                                {
                                    "DR?": "Nem Dr",
                                    "Órák száma": "42"
                                }
                            ]
                        },
                        "text/html": [
                            "<table>",
                            "<tr><th>DR?</th><th>Órák száma</th></tr>",
                            "<tr><td>Dr</td><td>25</td></tr>",
                            "<tr><td>Nem Dr</td><td>42</td></tr>",
                            "</table>"
                        ]
                    }
                }
            ],
            "execution_count": 86
        },
        {
            "cell_type": "markdown",
            "source": [
                "14. <span style=\"color: rgb(36, 41, 47); font-family: -apple-system, BlinkMacSystemFont, &quot;Segoe UI&quot;, Helvetica, Arial, sans-serif, &quot;Apple Color Emoji&quot;, &quot;Segoe UI Emoji&quot;; font-size: 16px;\">Készítsünk listát arról, hogy beosztásonként hány óra szerepel az Orak táblában!</span>\n",
                "\n",
                "1. Jelenítsük meg a beosztások nevét és az órák számát!\n",
                "2. A listát szűrjük azokra a beosztásokra, ahol ez az óraszám 10 feletti!"
            ],
            "metadata": {
                "azdata_cell_guid": "f634e09a-85ef-4e70-8ec6-ef355dfddaa7"
            },
            "attachments": {}
        },
        {
            "cell_type": "code",
            "source": [
                "select b.beosztasnev, count(o.ora_id) as 'Órák száma'\r\n",
                "from Beosztasok b join oktatok okt on b.beosztas_id = okt.beosztás\r\n",
                "join orak o on okt.oktato_id = o.tanar\r\n",
                "group by b.beosztasnev\r\n",
                "having count(o.ora_id)>10"
            ],
            "metadata": {
                "azdata_cell_guid": "88abc55b-2c78-495b-a72f-3f8f4eb5fe70",
                "language": "sql"
            },
            "outputs": [
                {
                    "output_type": "display_data",
                    "data": {
                        "text/html": "(3 rows affected)"
                    },
                    "metadata": {}
                },
                {
                    "output_type": "display_data",
                    "data": {
                        "text/html": "Total execution time: 00:00:00.080"
                    },
                    "metadata": {}
                },
                {
                    "output_type": "execute_result",
                    "metadata": {},
                    "execution_count": 91,
                    "data": {
                        "application/vnd.dataresource+json": {
                            "schema": {
                                "fields": [
                                    {
                                        "name": "beosztasnev"
                                    },
                                    {
                                        "name": "Órák száma"
                                    }
                                ]
                            },
                            "data": [
                                {
                                    "beosztasnev": "Adjunktus",
                                    "Órák száma": "14"
                                },
                                {
                                    "beosztasnev": "Egyetemi tanár",
                                    "Órák száma": "11"
                                },
                                {
                                    "beosztasnev": "Tanársegéd",
                                    "Órák száma": "22"
                                }
                            ]
                        },
                        "text/html": [
                            "<table>",
                            "<tr><th>beosztasnev</th><th>Órák száma</th></tr>",
                            "<tr><td>Adjunktus</td><td>14</td></tr>",
                            "<tr><td>Egyetemi tanár</td><td>11</td></tr>",
                            "<tr><td>Tanársegéd</td><td>22</td></tr>",
                            "</table>"
                        ]
                    }
                }
            ],
            "execution_count": 91
        },
        {
            "cell_type": "markdown",
            "source": [
                "15. <span style=\"color: rgb(36, 41, 47); font-family: -apple-system, BlinkMacSystemFont, &quot;Segoe UI&quot;, Helvetica, Arial, sans-serif, &quot;Apple Color Emoji&quot;, &quot;Segoe UI Emoji&quot;; font-size: 16px;\">Melyek azok az órák, amelyek kezdési időpontja olyan sávba esik, amely a mostani időpont (óra:perc) után van?</span>\n",
                "\n",
                "1. Listázzuk az órák azonosítóit, valamint az órakezdés napját és időpontját!\n",
                "2. A listát rendezzük az időpont szerint növekvő sorrendbe!"
            ],
            "metadata": {
                "azdata_cell_guid": "4cbf2f0d-a65d-480a-8186-ccdb24498443"
            },
            "attachments": {}
        },
        {
            "cell_type": "code",
            "source": [
                "select o.ora_id, n.nap, s.időpont\r\n",
                "from orak o join napok n on o.nap = n.nap_id\r\n",
                "join Savok s on o.sav = s.Sav_id\r\n",
                "where cast(left(Időpont, CHARINDEX('.', Időpont)-1)+':'+RIGHT(időpont,2) as time) > CAST(GETDATE() AS time)\r\n",
                "ORDER BY  cast(LEFT(időpont, CHARINDEX('.',időpont)-1)+':'+RIGHT(időpont,2) as time)"
            ],
            "metadata": {
                "azdata_cell_guid": "c148aee8-bc85-40bf-b80a-a4898a6c05cb",
                "language": "sql"
            },
            "outputs": [
                {
                    "output_type": "display_data",
                    "data": {
                        "text/html": "(0 rows affected)"
                    },
                    "metadata": {}
                },
                {
                    "output_type": "display_data",
                    "data": {
                        "text/html": "Total execution time: 00:00:00.086"
                    },
                    "metadata": {}
                },
                {
                    "output_type": "execute_result",
                    "metadata": {},
                    "execution_count": 93,
                    "data": {
                        "application/vnd.dataresource+json": {
                            "schema": {
                                "fields": [
                                    {
                                        "name": "ora_id"
                                    },
                                    {
                                        "name": "nap"
                                    },
                                    {
                                        "name": "időpont"
                                    }
                                ]
                            },
                            "data": []
                        },
                        "text/html": [
                            "<table>",
                            "<tr><th>ora_id</th><th>nap</th><th>időpont</th></tr>",
                            "</table>"
                        ]
                    }
                }
            ],
            "execution_count": 93
        }
    ]
}