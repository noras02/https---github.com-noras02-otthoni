{
    "metadata": {
        "kernelspec": {
            "name": "SQL",
            "display_name": "SQL",
            "language": "sql"
        },
        "language_info": {
            "name": "sql",
            "version": ""
        },
        "extensions": {
            "azuredatastudio": {
                "version": 1,
                "views": []
            }
        }
    },
    "nbformat_minor": 2,
    "nbformat": 4,
    "cells": [
        {
            "cell_type": "markdown",
            "source": [
                "**Az első 5 feladat ismétlés (többtáblás lekérdezések) a tanulmányi adatbázisból**\n",
                "1. Készítsünk listát arról, hogy melyik óra melyik teremben van!\n",
                "    \n",
                "    1. Jelenítsük meg az óra azonosítóját és a terem nevét!\n",
                "    2. A listát szűrjük a 3 karakter hosszú, \\[100;199\\] zárt intervallumba eső termekre!(Feltesszük, hogy a 3 karakter hosszú terem nevek csak számjegyeket tartalmaznak)"
            ],
            "metadata": {
                "azdata_cell_guid": "77f2d5b3-38e9-41cc-893f-f5afd02b97ef"
            },
            "attachments": {}
        },
        {
            "cell_type": "code",
            "source": [
                "SELECT o.ora_id,\r\n",
                "       t.Terem\r\n",
                "FROM Orak o JOIN Termek t ON o.terem = t.Tkód\r\n",
                "WHERE len(t.Terem) = 3 AND t.Terem BETWEEN '100' and '199'\r\n",
                ""
            ],
            "metadata": {
                "azdata_cell_guid": "bd3cef1a-4e6e-4ece-9dc3-aaa9d2b5d66d",
                "language": "sql"
            },
            "outputs": [],
            "execution_count": null
        },
        {
            "cell_type": "markdown",
            "source": [
                "2. <span style=\"font-weight: 600; color: rgb(36, 41, 47); font-family: -apple-system, BlinkMacSystemFont, &quot;Segoe UI&quot;, Helvetica, Arial, sans-serif, &quot;Apple Color Emoji&quot;, &quot;Segoe UI Emoji&quot;; font-size: 16px;\">Hány óra van összesen az egyes napokon?</span>\n",
                "\n",
                "1. Jelenítsük meg a napok nevét és az órák számát az adott napon!\n",
                "2. Az oszlopokat nevezzük el értelemszerűen!\n",
                "3. A listát rendezzük óraszám szerint növekvő sorrendbe!"
            ],
            "metadata": {
                "azdata_cell_guid": "88f5b4bb-f4c1-4bad-a0c7-b2592687b422"
            },
            "attachments": {}
        },
        {
            "cell_type": "code",
            "source": [
                "SELECT n.nap,\r\n",
                "       count(*) AS 'Óraszám'\r\n",
                "from orak o join Napok n on o.nap = n.nap_id\r\n",
                "GROUP by n.nap\r\n",
                "order by count(*)"
            ],
            "metadata": {
                "azdata_cell_guid": "e9de5726-f036-4fb9-8c33-a873955ed886",
                "language": "sql"
            },
            "outputs": [],
            "execution_count": null
        },
        {
            "cell_type": "markdown",
            "source": [
                "3. <span style=\"font-weight: 600; color: rgb(36, 41, 47); font-family: -apple-system, BlinkMacSystemFont, &quot;Segoe UI&quot;, Helvetica, Arial, sans-serif, &quot;Apple Color Emoji&quot;, &quot;Segoe UI Emoji&quot;; font-size: 16px;\">Készítsünk listát arról, hogy melyik oktatónak hány órája van az Órák táblában!</span>\n",
                "\n",
                "1. A lista jelenítse meg az oktatók nevét, és az órák számát!\n",
                "2. Az oszlopokat nevezzük el értelemszerűen!\n",
                "3. A listából hagyjuk ki az óraadókat!"
            ],
            "metadata": {
                "azdata_cell_guid": "9e7249de-1b59-43d8-84b1-26fa7d81fc5a"
            },
            "attachments": {}
        },
        {
            "cell_type": "code",
            "source": [
                "select okt.nev AS 'Név', \r\n",
                "       count(*) AS 'Óraszám'\r\n",
                "from Orak o JOIN Oktatok okt on o.tanar = okt.oktato_id\r\n",
                "            join Beosztasok b on okt.beosztás = b.beosztas_id\r\n",
                "where b.beosztasnev <> 'Óraadó'\r\n",
                "group by okt.nev"
            ],
            "metadata": {
                "azdata_cell_guid": "6405d3e8-a9b1-45d7-aa76-3b1e785ef6cc",
                "language": "sql"
            },
            "outputs": [],
            "execution_count": null
        },
        {
            "cell_type": "markdown",
            "source": [
                "4. <span style=\"color: rgb(36, 41, 47); font-family: -apple-system, BlinkMacSystemFont, &quot;Segoe UI&quot;, Helvetica, Arial, sans-serif, &quot;Apple Color Emoji&quot;, &quot;Segoe UI Emoji&quot;; font-size: 16px;\">Van-e olyan tantárgy, amelyből nincs óra?</span>\n",
                "\n",
                "1. Jelentsük meg a tantárgy nevét és a tantárgyfelelős nevét!"
            ],
            "metadata": {
                "azdata_cell_guid": "6478e469-c094-472c-a772-ccd5b5c61516"
            },
            "attachments": {}
        },
        {
            "cell_type": "code",
            "source": [
                "select t.Tantárgynév, \r\n",
                "       okt.nev\r\n",
                "from Tantárgyak t left join Orak o on t.Tkód = o.targy\r\n",
                "                  join Oktatok okt on t.Tantárgyfelelős = okt.oktato_id\r\n",
                "where o.targy is null"
            ],
            "metadata": {
                "azdata_cell_guid": "02031ea2-3838-458d-839c-228e3b362b61",
                "language": "sql"
            },
            "outputs": [],
            "execution_count": null
        },
        {
            "cell_type": "markdown",
            "source": [
                "5. <span style=\"background-color: rgb(255, 255, 255); color: rgb(36, 41, 47); font-family: -apple-system, BlinkMacSystemFont, &quot;Segoe UI&quot;, Helvetica, Arial, sans-serif, &quot;Apple Color Emoji&quot;, &quot;Segoe UI Emoji&quot;; font-size: 16px;\">Hány óra van összesen a 120-as teremben?</span>"
            ],
            "metadata": {
                "azdata_cell_guid": "9edbbaf9-c276-4898-9a01-e1b2993c089f"
            },
            "attachments": {}
        },
        {
            "cell_type": "code",
            "source": [
                "SELECT count(*) AS 'Órák száma'\r\n",
                "FROM Orak o join Termek t on o.terem = t.Tkód\r\n",
                "WHERE t.Terem = '120'"
            ],
            "metadata": {
                "azdata_cell_guid": "5ad5fdcb-2878-4111-861a-833bcd50e935",
                "language": "sql"
            },
            "outputs": [],
            "execution_count": null
        },
        {
            "cell_type": "markdown",
            "source": [
                "**A 6-10 feladatokat halmazműveletek segítségével oldjuk meg, szintén a tanulmányi adatbázison**\n",
                "\n",
                "6. <span style=\"background-color:rgb(255, 255, 255);color:rgb(36, 41, 47);font-family:-apple-system, BlinkMacSystemFont, &quot;Segoe UI&quot;, Helvetica, Arial, sans-serif, &quot;Apple Color Emoji&quot;, &quot;Segoe UI Emoji&quot;;font-size:16px;font-weight:600;\">Jelenítsük meg azon tanárok azonosítóját és nevét, akik hétfői vagy keddi napokon tanítanak!</span>"
            ],
            "metadata": {
                "azdata_cell_guid": "5fe65c1c-2479-45ac-ad03-ec99d12eae21"
            },
            "attachments": {}
        },
        {
            "cell_type": "code",
            "source": [
                "SELECT okt.oktato_id AS 'Azonosító',\r\n",
                "       okt.nev AS 'Név'\r\n",
                "FROM Oktatok okt JOIN Orak o ON okt.oktato_id = o.tanar\r\n",
                "                 JOIN Napok n ON o.nap = n.nap_id\r\n",
                "WHERE n.nap = N'Hétfő'\r\n",
                "\r\n",
                "UNION\r\n",
                "\r\n",
                "SELECT okt.oktato_id,\r\n",
                "       okt.nev\r\n",
                "FROM Oktatok okt JOIN Orak o ON okt.oktato_id = o.tanar\r\n",
                "                 JOIN Napok n ON o.nap = n.nap_id\r\n",
                "WHERE n.nap = N'Kedd'\r\n",
                ""
            ],
            "metadata": {
                "azdata_cell_guid": "924f2dde-f1c2-4def-a7f9-dbf4bace7735",
                "language": "sql"
            },
            "outputs": [],
            "execution_count": null
        },
        {
            "cell_type": "markdown",
            "source": [
                "7. <span style=\"background-color: rgb(255, 255, 255); color: rgb(36, 41, 47); font-family: -apple-system, BlinkMacSystemFont, &quot;Segoe UI&quot;, Helvetica, Arial, sans-serif, &quot;Apple Color Emoji&quot;, &quot;Segoe UI Emoji&quot;; font-size: 16px; font-weight: 600;\">Melyek azok a tantárgyak, amelyek esetén van óra a 8.00-kor kezdődő sávban, de nincs a 12.30-kor kezdődő sávban?</span>"
            ],
            "metadata": {
                "azdata_cell_guid": "3aeb6bf5-b111-40d5-92b2-9712ce335696"
            },
            "attachments": {}
        },
        {
            "cell_type": "code",
            "source": [
                "SELECT t.Tkód,\r\n",
                "       t.Tantárgynév\r\n",
                "FROM Tantárgyak t JOIN Orak o ON t.Tkód = o.targy\r\n",
                "                  JOIN Savok s ON o.Sav = s.Sav_id\r\n",
                "WHERE s.Időpont = '8.00'\r\n",
                "\r\n",
                "EXCEPT\r\n",
                "\r\n",
                "SELECT t.Tkód,\r\n",
                "       t.Tantárgynév\r\n",
                "FROM Tantárgyak t JOIN Orak o ON t.Tkód = o.targy\r\n",
                "                  JOIN Savok s ON o.Sav = s.Sav_id\r\n",
                "WHERE s.Időpont = '12.30'"
            ],
            "metadata": {
                "azdata_cell_guid": "3e89b651-f56f-4102-af52-30eb2bbe360d",
                "language": "sql"
            },
            "outputs": [],
            "execution_count": null
        },
        {
            "cell_type": "markdown",
            "source": [
                "8. <span style=\"background-color: rgb(255, 255, 255); color: rgb(36, 41, 47); font-family: -apple-system, BlinkMacSystemFont, &quot;Segoe UI&quot;, Helvetica, Arial, sans-serif, &quot;Apple Color Emoji&quot;, &quot;Segoe UI Emoji&quot;; font-size: 16px; font-weight: 600;\">Listázzuk azokat a termeket, amelyekben oktat Kovács László és van olyan tanóra a teremben, ahol a tantárgy nevében nem szerepel az 'ürge' szó!</span>"
            ],
            "metadata": {
                "azdata_cell_guid": "26a504dc-ff6a-439f-94c0-4580eca3eacf"
            },
            "attachments": {}
        },
        {
            "cell_type": "code",
            "source": [
                "SELECT t.Terem\r\n",
                "FROM Orak o JOIN Oktatok okt on o.tanar = okt.oktato_id\r\n",
                "            JOIN Termek t ON o.terem = t.Tkód\r\n",
                "WHERE okt.nev = 'Kovács László'\r\n",
                "\r\n",
                "INTERSECT\r\n",
                "\r\n",
                "SELECT tm.Terem\r\n",
                "FROM Orak o JOIN Tantárgyak t ON o.targy = t.Tkód\r\n",
                "            JOIN Termek tm ON o.terem = tm.Tkód\r\n",
                "WHERE t.Tantárgynév NOT LIKE '%ürge%'"
            ],
            "metadata": {
                "azdata_cell_guid": "1cbb8aeb-78b5-4350-aa45-e3202fdab85b",
                "language": "sql"
            },
            "outputs": [],
            "execution_count": null
        },
        {
            "cell_type": "markdown",
            "source": [
                "9. <span style=\"font-weight: 600; color: rgb(36, 41, 47); font-family: -apple-system, BlinkMacSystemFont, &quot;Segoe UI&quot;, Helvetica, Arial, sans-serif, &quot;Apple Color Emoji&quot;, &quot;Segoe UI Emoji&quot;; font-size: 16px;\">Készítsünk listát arról, hogy melyik tanárnak hány órája van a (munka) hét elején (hétfőn), hét közben (kedd, szerda és csütörtök), illetve a hét végén (péntek)!</span>\n",
                "\n",
                "1. Jelenítsük meg a tanár azonosítóját, nevét, az időszakot (hét eleje - hét közben - hét vége), valamint az óraszámot!\n",
                "2. A három megjelölt időszakot külön kérdezzük le, majd fűzzük össze a lekérdezések eredményeit!\n",
                "3. Rendezzük a listát az oktató neve, azon belül időszak szerint!"
            ],
            "metadata": {
                "azdata_cell_guid": "435e2860-2dd5-4877-90f4-34a43baeb53c"
            },
            "attachments": {}
        },
        {
            "cell_type": "code",
            "source": [
                "SELECT okt.oktato_id,\r\n",
                "       okt.nev,\r\n",
                "       CASE \r\n",
                "            WHEN n.nap = N'Hétfő' THEN 'Hét eleje'\r\n",
                "            WHEN n.nap IN ('Kedd', 'Szerda', 'Csütörtök') THEN 'hét közepe'\r\n",
                "            ELSE 'hét vége'\r\n",
                "       END AS 'Időszak',\r\n",
                "       COUNT(*)\r\n",
                "FROM Oktatok okt JOIN Orak o ON okt.oktato_id = o.tanar\r\n",
                "                 JOIN Napok n ON o.nap = n.nap_id\r\n",
                "GROUP BY okt.oktato_id, \r\n",
                "         okt.nev,\r\n",
                "         CASE \r\n",
                "            WHEN n.nap = N'Hétfő' THEN 'Hét eleje'\r\n",
                "            WHEN n.nap IN ('Kedd', 'Szerda', 'Csütörtök') THEN 'hét közepe'\r\n",
                "            ELSE 'hét vége'\r\n",
                "         END\r\n",
                "ORDER BY okt.oktato_id, okt.nev, 'Időszak'"
            ],
            "metadata": {
                "azdata_cell_guid": "ce846351-ddbe-4d8e-b8fb-2a92c73ac80b",
                "language": "sql"
            },
            "outputs": [],
            "execution_count": null
        },
        {
            "cell_type": "markdown",
            "source": [
                "10. <span style=\"background-color: rgb(255, 255, 255); color: rgb(36, 41, 47); font-family: -apple-system, BlinkMacSystemFont, &quot;Segoe UI&quot;, Helvetica, Arial, sans-serif, &quot;Apple Color Emoji&quot;, &quot;Segoe UI Emoji&quot;; font-size: 16px; font-weight: 600;\">Melyik napokon nincs órája Pelikán Józsefnek?</span>"
            ],
            "metadata": {
                "azdata_cell_guid": "217c5772-afe2-4a7c-b913-e3a3e09d6411"
            },
            "attachments": {}
        },
        {
            "cell_type": "code",
            "source": [
                "SELECT nap\r\n",
                "FROM Napok \r\n",
                "\r\n",
                "\r\n",
                "EXCEPT\r\n",
                "\r\n",
                "SELECT n.nap\r\n",
                "FROM Orak ora JOIN Oktatok o ON ora.tanar = o.oktato_id\r\n",
                "              JOIN Napok N on ora.nap = n.nap_id\r\n",
                "WHERE o.nev='Pelikán József'"
            ],
            "metadata": {
                "azdata_cell_guid": "a9cc0926-3dbd-4ed8-8179-1c39d64a0762",
                "language": "sql",
                "tags": []
            },
            "outputs": [],
            "execution_count": null
        },
        {
            "cell_type": "markdown",
            "source": [
                "**A 11-15 feladatok gyakorlásra szolgálnak a közelgő zh-ra :-)**\n",
                "\n",
                "11. _Készítsünk listát az oktatók adatairól!_\n",
                "\n",
                "1. Az oktatók titulusa és neve összefűzve jelenjen meg, közöttük szóközzel!\n",
                "2. Ha valakinek nincs titulusa, akkor csak a neve jelenjen meg, szóköz nélkül!\n",
                "3. A listát rendezzük a beosztás kódja, azon belül a státusz kódja szerint növekvő sorrendbe!\n",
                "4. Az oszlopokat nevezzük el értelemszerűen!"
            ],
            "metadata": {
                "azdata_cell_guid": "d2340f5f-1614-473c-b937-85740d67f7c1"
            },
            "attachments": {}
        },
        {
            "cell_type": "code",
            "source": [
                "SELECT oktato_id,\r\n",
                "       IIF(titulus  IS NULL, nev, titulus + ' ' + nev) AS 'Oktató neve',\r\n",
                "       beosztás AS 'Beosztás kódja',\r\n",
                "       [status]  AS'Státusz kódja'\r\n",
                "FROM Oktatok\r\n",
                "ORDER BY beosztás, [status]"
            ],
            "metadata": {
                "azdata_cell_guid": "e99c2c53-898f-4787-b0e6-182d106dc16f",
                "language": "sql",
                "tags": []
            },
            "outputs": [
                {
                    "output_type": "display_data",
                    "data": {
                        "text/html": "(25 rows affected)"
                    },
                    "metadata": {}
                },
                {
                    "output_type": "display_data",
                    "data": {
                        "text/html": "Total execution time: 00:00:00.021"
                    },
                    "metadata": {}
                },
                {
                    "output_type": "execute_result",
                    "execution_count": 1,
                    "data": {
                        "application/vnd.dataresource+json": {
                            "schema": {
                                "fields": [
                                    {
                                        "name": "oktato_id"
                                    },
                                    {
                                        "name": "Oktató neve"
                                    },
                                    {
                                        "name": "Beosztás kódja"
                                    },
                                    {
                                        "name": "Státusz kódja"
                                    }
                                ]
                            },
                            "data": [
                                {
                                    "oktato_id": "18",
                                    "Oktató neve": "Nógrádi Kata",
                                    "Beosztás kódja": "1",
                                    "Státusz kódja": "1"
                                },
                                {
                                    "oktato_id": "19",
                                    "Oktató neve": "Rácz András",
                                    "Beosztás kódja": "1",
                                    "Státusz kódja": "1"
                                },
                                {
                                    "oktato_id": "20",
                                    "Oktató neve": "Kovács András",
                                    "Beosztás kódja": "1",
                                    "Státusz kódja": "1"
                                },
                                {
                                    "oktato_id": "104",
                                    "Oktató neve": "Ludas Mátyás",
                                    "Beosztás kódja": "1",
                                    "Státusz kódja": "1"
                                },
                                {
                                    "oktato_id": "200",
                                    "Oktató neve": "Aranyi Mária",
                                    "Beosztás kódja": "1",
                                    "Státusz kódja": "1"
                                },
                                {
                                    "oktato_id": "300",
                                    "Oktató neve": "Szabó Andrera",
                                    "Beosztás kódja": "1",
                                    "Státusz kódja": "1"
                                },
                                {
                                    "oktato_id": "105",
                                    "Oktató neve": "Kiss István",
                                    "Beosztás kódja": "1",
                                    "Státusz kódja": "2"
                                },
                                {
                                    "oktato_id": "107",
                                    "Oktató neve": "Mészáros Kriszta",
                                    "Beosztás kódja": "1",
                                    "Státusz kódja": "2"
                                },
                                {
                                    "oktato_id": "108",
                                    "Oktató neve": "Róbert Gida",
                                    "Beosztás kódja": "2",
                                    "Státusz kódja": "1"
                                },
                                {
                                    "oktato_id": "111",
                                    "Oktató neve": "Vitéz János",
                                    "Beosztás kódja": "2",
                                    "Státusz kódja": "1"
                                },
                                {
                                    "oktato_id": "7",
                                    "Oktató neve": "Kiss János",
                                    "Beosztás kódja": "2",
                                    "Státusz kódja": "1"
                                },
                                {
                                    "oktato_id": "8",
                                    "Oktató neve": "Pelikán József",
                                    "Beosztás kódja": "2",
                                    "Státusz kódja": "3"
                                },
                                {
                                    "oktato_id": "9",
                                    "Oktató neve": "Farkasos Piroska",
                                    "Beosztás kódja": "2",
                                    "Státusz kódja": "3"
                                },
                                {
                                    "oktato_id": "6",
                                    "Oktató neve": "Dr. Szép llonka",
                                    "Beosztás kódja": "3",
                                    "Státusz kódja": "1"
                                },
                                {
                                    "oktato_id": "14",
                                    "Oktató neve": "Szénási ászló",
                                    "Beosztás kódja": "3",
                                    "Státusz kódja": "1"
                                },
                                {
                                    "oktato_id": "2",
                                    "Oktató neve": "Dr. Szentágotai Istvás",
                                    "Beosztás kódja": "3",
                                    "Státusz kódja": "2"
                                },
                                {
                                    "oktato_id": "3",
                                    "Oktató neve": "Szerb László",
                                    "Beosztás kódja": "4",
                                    "Státusz kódja": "1"
                                },
                                {
                                    "oktato_id": "11",
                                    "Oktató neve": "Dr. Józsa Gábor",
                                    "Beosztás kódja": "4",
                                    "Státusz kódja": "1"
                                },
                                {
                                    "oktato_id": "12",
                                    "Oktató neve": "Dr. Varga Kata",
                                    "Beosztás kódja": "4",
                                    "Státusz kódja": "1"
                                },
                                {
                                    "oktato_id": "5",
                                    "Oktató neve": "Dr. Balkán András",
                                    "Beosztás kódja": "4",
                                    "Státusz kódja": "2"
                                },
                                {
                                    "oktato_id": "302",
                                    "Oktató neve": "Dr. Kovacs Istvan",
                                    "Beosztás kódja": "5",
                                    "Státusz kódja": "1"
                                },
                                {
                                    "oktato_id": "301",
                                    "Oktató neve": "Dr. Juhász András",
                                    "Beosztás kódja": "6",
                                    "Státusz kódja": "1"
                                },
                                {
                                    "oktato_id": "10",
                                    "Oktató neve": "Prof. Jogrerős Pál",
                                    "Beosztás kódja": "6",
                                    "Státusz kódja": "1"
                                },
                                {
                                    "oktato_id": "1",
                                    "Oktató neve": "Dr. Kovács László",
                                    "Beosztás kódja": "6",
                                    "Státusz kódja": "2"
                                },
                                {
                                    "oktato_id": "4",
                                    "Oktató neve": "Prof, tanszékvezető Ujfalussi István",
                                    "Beosztás kódja": "6",
                                    "Státusz kódja": "2"
                                }
                            ]
                        },
                        "text/html": "<table><tr><th>oktato_id</th><th>Oktató neve</th><th>Beosztás kódja</th><th>Státusz kódja</th></tr><tr><td>18</td><td>Nógrádi Kata</td><td>1</td><td>1</td></tr><tr><td>19</td><td>Rácz András</td><td>1</td><td>1</td></tr><tr><td>20</td><td>Kovács András</td><td>1</td><td>1</td></tr><tr><td>104</td><td>Ludas Mátyás</td><td>1</td><td>1</td></tr><tr><td>200</td><td>Aranyi Mária</td><td>1</td><td>1</td></tr><tr><td>300</td><td>Szabó Andrera</td><td>1</td><td>1</td></tr><tr><td>105</td><td>Kiss István</td><td>1</td><td>2</td></tr><tr><td>107</td><td>Mészáros Kriszta</td><td>1</td><td>2</td></tr><tr><td>108</td><td>Róbert Gida</td><td>2</td><td>1</td></tr><tr><td>111</td><td>Vitéz János</td><td>2</td><td>1</td></tr><tr><td>7</td><td>Kiss János</td><td>2</td><td>1</td></tr><tr><td>8</td><td>Pelikán József</td><td>2</td><td>3</td></tr><tr><td>9</td><td>Farkasos Piroska</td><td>2</td><td>3</td></tr><tr><td>6</td><td>Dr. Szép llonka</td><td>3</td><td>1</td></tr><tr><td>14</td><td>Szénási ászló</td><td>3</td><td>1</td></tr><tr><td>2</td><td>Dr. Szentágotai Istvás</td><td>3</td><td>2</td></tr><tr><td>3</td><td>Szerb László</td><td>4</td><td>1</td></tr><tr><td>11</td><td>Dr. Józsa Gábor</td><td>4</td><td>1</td></tr><tr><td>12</td><td>Dr. Varga Kata</td><td>4</td><td>1</td></tr><tr><td>5</td><td>Dr. Balkán András</td><td>4</td><td>2</td></tr><tr><td>302</td><td>Dr. Kovacs Istvan</td><td>5</td><td>1</td></tr><tr><td>301</td><td>Dr. Juhász András</td><td>6</td><td>1</td></tr><tr><td>10</td><td>Prof. Jogrerős Pál</td><td>6</td><td>1</td></tr><tr><td>1</td><td>Dr. Kovács László</td><td>6</td><td>2</td></tr><tr><td>4</td><td>Prof, tanszékvezető Ujfalussi István</td><td>6</td><td>2</td></tr></table>"
                    },
                    "metadata": {}
                }
            ],
            "execution_count": 1
        },
        {
            "cell_type": "markdown",
            "source": [
                "<span style=\"color: #09885a;\">12</span>. Készítsünk listát, amely megmutatja, hogy összesen hány tantárgy van kreditenkénti csoportosításban!\n",
                "\n",
                "  \n",
                "\n",
                "A listából hagyjuk ki azokat a tételeket, ahol ez a darabszám <span style=\"color: #09885a;\">1</span>!\n",
                "\n",
                "A Folyami gáttan tantárgyat ne vegyük figyelembe!\n",
                "\n",
                "A listát rendezzük darabszám szerint csökkenő sorrendbe!\n",
                "\n",
                "Az oszlopokat nevezzük el értelemszerűen!"
            ],
            "metadata": {
                "azdata_cell_guid": "a765e9d6-58b3-4171-872a-78f3118fd6e3"
            },
            "attachments": {}
        },
        {
            "cell_type": "code",
            "source": [
                "SELECT kredit AS 'Kreditek száma', \r\n",
                "       COUNT(*) AS 'DB'\r\n",
                "FROM Tantárgyak\r\n",
                "WHERE Tantárgynév <> 'Folyami gáttan'\r\n",
                "GROUP BY kredit\r\n",
                "HAVING COUNT(*)<>1\r\n",
                "ORDER BY DB DESC"
            ],
            "metadata": {
                "azdata_cell_guid": "422e8127-b652-4d3a-bfd7-9b1637b5781e",
                "language": "sql"
            },
            "outputs": [
                {
                    "output_type": "display_data",
                    "data": {
                        "text/html": "(4 rows affected)"
                    },
                    "metadata": {}
                },
                {
                    "output_type": "display_data",
                    "data": {
                        "text/html": "Total execution time: 00:00:00.628"
                    },
                    "metadata": {}
                },
                {
                    "output_type": "execute_result",
                    "execution_count": 1,
                    "data": {
                        "application/vnd.dataresource+json": {
                            "schema": {
                                "fields": [
                                    {
                                        "name": "Kreditek száma"
                                    },
                                    {
                                        "name": "DB"
                                    }
                                ]
                            },
                            "data": [
                                {
                                    "Kreditek száma": "2",
                                    "DB": "3"
                                },
                                {
                                    "Kreditek száma": "3",
                                    "DB": "3"
                                },
                                {
                                    "Kreditek száma": "4",
                                    "DB": "2"
                                },
                                {
                                    "Kreditek száma": "1",
                                    "DB": "2"
                                }
                            ]
                        },
                        "text/html": "<table><tr><th>Kreditek száma</th><th>DB</th></tr><tr><td>2</td><td>3</td></tr><tr><td>3</td><td>3</td></tr><tr><td>4</td><td>2</td></tr><tr><td>1</td><td>2</td></tr></table>"
                    },
                    "metadata": {}
                }
            ],
            "execution_count": 1
        },
        {
            "cell_type": "markdown",
            "source": [
                "13. _Készítsünk listát az oktatók nevéről, a beosztásuk alapján elvárt és a tényleges óraszámukról!_\n",
                "\n",
                "1. Az oszlopok neve legyen 'Oktató neve', 'Elvárt óraszám' és 'Tényleges óraszám'\n",
                "2. Szűrjük a listát azokra az oktatókra, ahol az elvárt és a tényleges óraszám azonos"
            ],
            "metadata": {
                "azdata_cell_guid": "3f9237ae-f109-401c-acb9-31d75e73331b"
            },
            "attachments": {}
        },
        {
            "cell_type": "code",
            "source": [
                "SELECT o.nev AS 'Oktató neve', \r\n",
                "                 b.elvart AS 'Elvárt óraszám', \r\n",
                "                 COUNT(*) AS 'Tényleges óraszám'\r\n",
                "FROM Orak ora JOIN Oktatok o ON ora.tanar = o.oktato_id\r\n",
                "\t\t\t  JOIN Beosztasok b ON o.beosztás = b.beosztas_id\r\n",
                "GROUP BY o.nev, b.elvart\r\n",
                "HAVING COUNT(*) = b.elvart"
            ],
            "metadata": {
                "azdata_cell_guid": "4b31bb89-cfbc-46b1-8639-85c462877786",
                "language": "sql"
            },
            "outputs": [
                {
                    "output_type": "display_data",
                    "data": {
                        "text/html": "(4 rows affected)"
                    },
                    "metadata": {}
                },
                {
                    "output_type": "display_data",
                    "data": {
                        "text/html": "Total execution time: 00:00:00.215"
                    },
                    "metadata": {}
                },
                {
                    "output_type": "execute_result",
                    "execution_count": 2,
                    "data": {
                        "application/vnd.dataresource+json": {
                            "schema": {
                                "fields": [
                                    {
                                        "name": "Oktató neve"
                                    },
                                    {
                                        "name": "Elvárt óraszám"
                                    },
                                    {
                                        "name": "Tényleges óraszám"
                                    }
                                ]
                            },
                            "data": [
                                {
                                    "Oktató neve": "Jogrerős Pál",
                                    "Elvárt óraszám": "2",
                                    "Tényleges óraszám": "2"
                                },
                                {
                                    "Oktató neve": "Juhász András",
                                    "Elvárt óraszám": "2",
                                    "Tényleges óraszám": "2"
                                },
                                {
                                    "Oktató neve": "Varga Kata",
                                    "Elvárt óraszám": "4",
                                    "Tényleges óraszám": "4"
                                },
                                {
                                    "Oktató neve": "Pelikán József",
                                    "Elvárt óraszám": "6",
                                    "Tényleges óraszám": "6"
                                }
                            ]
                        },
                        "text/html": "<table><tr><th>Oktató neve</th><th>Elvárt óraszám</th><th>Tényleges óraszám</th></tr><tr><td>Jogrerős Pál</td><td>2</td><td>2</td></tr><tr><td>Juhász András</td><td>2</td><td>2</td></tr><tr><td>Varga Kata</td><td>4</td><td>4</td></tr><tr><td>Pelikán József</td><td>6</td><td>6</td></tr></table>"
                    },
                    "metadata": {}
                }
            ],
            "execution_count": 2
        },
        {
            "cell_type": "markdown",
            "source": [
                "14. _Készítsünk listát, amely megmutatja, hogy mely tantárgyból nincs óra egyáltalán!_\n",
                "\n",
                "1. Csak a tantárgy neve jelenjen meg!"
            ],
            "metadata": {
                "azdata_cell_guid": "f634e09a-85ef-4e70-8ec6-ef355dfddaa7"
            },
            "attachments": {}
        },
        {
            "cell_type": "code",
            "source": [
                "SELECT t.Tantárgynév AS 'Tantárgynév'\r\n",
                "FROM Tantárgyak t LEFT JOIN Orak o ON t.Tkód = o.targy\r\n",
                "WHERE o.targy IS NULL"
            ],
            "metadata": {
                "azdata_cell_guid": "88abc55b-2c78-495b-a72f-3f8f4eb5fe70",
                "language": "sql"
            },
            "outputs": [
                {
                    "output_type": "display_data",
                    "data": {
                        "text/html": "(1 row affected)"
                    },
                    "metadata": {}
                },
                {
                    "output_type": "display_data",
                    "data": {
                        "text/html": "Total execution time: 00:00:00.058"
                    },
                    "metadata": {}
                },
                {
                    "output_type": "execute_result",
                    "execution_count": 3,
                    "data": {
                        "application/vnd.dataresource+json": {
                            "schema": {
                                "fields": [
                                    {
                                        "name": "Tantárgynév"
                                    }
                                ]
                            },
                            "data": [
                                {
                                    "Tantárgynév": "Folyami gáttan"
                                }
                            ]
                        },
                        "text/html": "<table><tr><th>Tantárgynév</th></tr><tr><td>Folyami gáttan</td></tr></table>"
                    },
                    "metadata": {}
                }
            ],
            "execution_count": 3
        },
        {
            "cell_type": "markdown",
            "source": [
                "15. _Hány órájuk van az óraadóknak napi bontásban?_\n",
                "\n",
                "1. Csak a napok nevét és az óraszámot jelenítsük meg!\n",
                "2. Rendezzük a listát óraszám szerint növekvő sorrendbe!"
            ],
            "metadata": {
                "azdata_cell_guid": "4cbf2f0d-a65d-480a-8186-ccdb24498443"
            },
            "attachments": {}
        },
        {
            "cell_type": "code",
            "source": [
                "--A feladat a Beosztások táblát használva is megoldható\r\n",
                "SELECT n.nap , \r\n",
                "       COUNT(*) AS 'Óraszám'\r\n",
                "FROM Orak ora JOIN Oktatok o ON ora.tanar = o.oktato_id\r\n",
                "              JOIN Napok n ON ora.nap = n.nap_id\r\n",
                "\t\t\t  JOIN statusok s on o.status = s.Skod\r\n",
                "WHERE s.Status = 'Óraadó'\r\n",
                "GROUP BY n.nap\r\n",
                "ORDER BY 2"
            ],
            "metadata": {
                "azdata_cell_guid": "c148aee8-bc85-40bf-b80a-a4898a6c05cb",
                "language": "sql"
            },
            "outputs": [
                {
                    "output_type": "display_data",
                    "data": {
                        "text/html": "(5 rows affected)"
                    },
                    "metadata": {}
                },
                {
                    "output_type": "display_data",
                    "data": {
                        "text/html": "Total execution time: 00:00:00.025"
                    },
                    "metadata": {}
                },
                {
                    "output_type": "execute_result",
                    "execution_count": 4,
                    "data": {
                        "application/vnd.dataresource+json": {
                            "schema": {
                                "fields": [
                                    {
                                        "name": "nap"
                                    },
                                    {
                                        "name": "Óraszám"
                                    }
                                ]
                            },
                            "data": [
                                {
                                    "nap": "Péntek",
                                    "Óraszám": "1"
                                },
                                {
                                    "nap": "Szerda",
                                    "Óraszám": "1"
                                },
                                {
                                    "nap": "Csütörtök",
                                    "Óraszám": "3"
                                },
                                {
                                    "nap": "Kedd",
                                    "Óraszám": "3"
                                },
                                {
                                    "nap": "Hétfő",
                                    "Óraszám": "5"
                                }
                            ]
                        },
                        "text/html": "<table><tr><th>nap</th><th>Óraszám</th></tr><tr><td>Péntek</td><td>1</td></tr><tr><td>Szerda</td><td>1</td></tr><tr><td>Csütörtök</td><td>3</td></tr><tr><td>Kedd</td><td>3</td></tr><tr><td>Hétfő</td><td>5</td></tr></table>"
                    },
                    "metadata": {}
                }
            ],
            "execution_count": 4
        }
    ]
}